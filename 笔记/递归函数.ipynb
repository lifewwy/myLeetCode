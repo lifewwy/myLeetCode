{
 "cells": [
  {
   "cell_type": "markdown",
   "metadata": {},
   "source": [
    "# 递归函数     \n",
    "**一个函数在内部调用自身本身，这个函数就是递归函数。**"
   ]
  },
  {
   "cell_type": "markdown",
   "metadata": {},
   "source": [
    "\n",
    "\n",
    "<div style=\"float:right;border:solid 1px 000;margin:2px;\"><img src=\"https://img-blog.csdn.net/20170603101816295?watermark/2/text/aHR0cDovL2Jsb2cuY3Nkbi5uZXQvbGlhbmcxOTg5MDgyMA==/font/5a6L5L2T/fontsize/400/fill/I0JBQkFCMA==/dissolve/70/gravity/SouthEast\"  width=\"200\" height=\"260\" ></div>\n",
    "\n",
    "\n",
    "从“编程之美”的角度来看，引用一句伟大的计算机编程名言：\n",
    "\n",
    "To iterate is human,to recurse divine. \n",
    "迭代者为人，递归者为神。 \n",
    "– L. Peter Deutsch\n",
    "\n",
    "优点：\n",
    "\n",
    "* 递归使代码看起来更加整洁、优雅\n",
    "* 可以用递归将复杂任务分解成更简单的子问题\n",
    "* 使用递归比使用一些嵌套迭代更容易\n",
    "\n",
    "缺点:\n",
    "\n",
    "* 递归的逻辑很难调试、跟进\n",
    "* 递归调用的代价高昂（效率低），因为占用了大量的内存和时间。\n",
    "\n"
   ]
  },
  {
   "cell_type": "markdown",
   "metadata": {},
   "source": [
    "## 必须有一个明确的递归结束条件，称为递归出口。\n",
    "**注意**： 切勿忘记递归出口，避免函数无限调用。"
   ]
  },
  {
   "cell_type": "markdown",
   "metadata": {},
   "source": [
    "例子："
   ]
  },
  {
   "cell_type": "code",
   "execution_count": 2,
   "metadata": {},
   "outputs": [
    {
     "data": {
      "text/plain": [
       "24"
      ]
     },
     "execution_count": 2,
     "metadata": {},
     "output_type": "execute_result"
    }
   ],
   "source": [
    "def factorial(n):\n",
    "    if n == 1:\n",
    "        return 1\n",
    "    else:\n",
    "        return n * factorial(n - 1)\n",
    "\n",
    "factorial(4)"
   ]
  },
  {
   "cell_type": "markdown",
   "metadata": {},
   "source": [
    "为了明确递归步骤，对 `5!` 进行过程分解："
   ]
  },
  {
   "cell_type": "markdown",
   "metadata": {},
   "source": [
    ">```python\n",
    "factorial(5)                        # 第 1 次调用使用 5\n",
    "5 * factorial(4)                    # 第 2 次调用使用 4\n",
    "5 * (4 * factorial(3))              # 第 3 次调用使用 3\n",
    "5 * (4 * (3 * factorial(2)))        # 第 4 次调用使用 2\n",
    "5 * (4 * (3 * (2 * factorial(1))))  # 第 5 次调用使用 1 \n",
    "5 * (4 * (3 * (2 * 1)))             # 从第 5 次调用返回\n",
    "5 * (4 * (3 * 2))                   # 从第 4 次调用返回\n",
    "5 * (4 * 6)                         # 从第 3次调用返回\n",
    "5 * 24                              # 从第 2 次调用返回\n",
    "120                                 # 从第 1 次调用返回\n",
    "```"
   ]
  },
  {
   "cell_type": "code",
   "execution_count": null,
   "metadata": {},
   "outputs": [],
   "source": []
  }
 ],
 "metadata": {
  "kernelspec": {
   "display_name": "Python 3",
   "language": "python",
   "name": "python3"
  },
  "language_info": {
   "codemirror_mode": {
    "name": "ipython",
    "version": 3
   },
   "file_extension": ".py",
   "mimetype": "text/x-python",
   "name": "python",
   "nbconvert_exporter": "python",
   "pygments_lexer": "ipython3",
   "version": "3.6.4"
  }
 },
 "nbformat": 4,
 "nbformat_minor": 2
}
