{
 "cells": [
  {
   "cell_type": "markdown",
   "metadata": {},
   "source": [
    "# 递归函数     \n",
    "**一个函数在内部调用自身本身，这个函数就是递归函数。**"
   ]
  },
  {
   "cell_type": "markdown",
   "metadata": {},
   "source": [
    "\n",
    "\n",
    "<div style=\"float:right;border:solid 1px 000;margin:2px;\"><img src=\"https://img-blog.csdn.net/20170603101816295?watermark/2/text/aHR0cDovL2Jsb2cuY3Nkbi5uZXQvbGlhbmcxOTg5MDgyMA==/font/5a6L5L2T/fontsize/400/fill/I0JBQkFCMA==/dissolve/70/gravity/SouthEast\"  width=\"200\" height=\"260\" ></div>\n",
    "\n",
    "\n",
    "从“编程之美”的角度来看，引用一句伟大的计算机编程名言：\n",
    "\n",
    "To iterate is human,to recurse divine. \n",
    "迭代者为人，递归者为神。 \n",
    "– L. Peter Deutsch\n",
    "\n",
    "优点：\n",
    "\n",
    "* 递归使代码看起来更加整洁、优雅\n",
    "* 可以用递归将复杂任务分解成更简单的子问题\n",
    "* 使用递归比使用一些嵌套迭代更容易\n",
    "\n",
    "缺点:\n",
    "\n",
    "* 递归的逻辑很难调试、跟进\n",
    "* 递归调用的代价高昂（效率低），因为占用了大量的内存和时间。\n",
    "\n"
   ]
  },
  {
   "cell_type": "markdown",
   "metadata": {},
   "source": [
    "## 必须有一个明确的递归结束条件，称为递归出口。\n",
    "**注意**： 切勿忘记递归出口，避免函数无限调用。"
   ]
  },
  {
   "cell_type": "markdown",
   "metadata": {},
   "source": [
    "例子："
   ]
  },
  {
   "cell_type": "code",
   "execution_count": 29,
   "metadata": {},
   "outputs": [
    {
     "data": {
      "text/plain": [
       "24"
      ]
     },
     "execution_count": 29,
     "metadata": {},
     "output_type": "execute_result"
    }
   ],
   "source": [
    "def factorial(n):\n",
    "    if n == 1:\n",
    "        return 1\n",
    "    else:\n",
    "        return n * factorial(n - 1)\n",
    "\n",
    "factorial(4)"
   ]
  },
  {
   "cell_type": "markdown",
   "metadata": {},
   "source": [
    "为了明确递归步骤，对 `5!` 进行过程分解："
   ]
  },
  {
   "cell_type": "markdown",
   "metadata": {},
   "source": [
    ">```python\n",
    "factorial(5)                        # 第 1 次调用使用 5\n",
    "5 * factorial(4)                    # 第 2 次调用使用 4\n",
    "5 * (4 * factorial(3))              # 第 3 次调用使用 3\n",
    "5 * (4 * (3 * factorial(2)))        # 第 4 次调用使用 2\n",
    "5 * (4 * (3 * (2 * factorial(1))))  # 第 5 次调用使用 1 \n",
    "5 * (4 * (3 * (2 * 1)))             # 从第 5 次调用返回\n",
    "5 * (4 * (3 * 2))                   # 从第 4 次调用返回\n",
    "5 * (4 * 6)                         # 从第 3次调用返回\n",
    "5 * 24                              # 从第 2 次调用返回\n",
    "120                                 # 从第 1 次调用返回\n",
    "```"
   ]
  },
  {
   "cell_type": "markdown",
   "metadata": {},
   "source": [
    "例子 [参考](https://www.cnblogs.com/Fantinai/p/7806356.html)    "
   ]
  },
  {
   "cell_type": "code",
   "execution_count": 30,
   "metadata": {},
   "outputs": [
    {
     "name": "stdout",
     "output_type": "stream",
     "text": [
      "3\t2\t1\t0\t\n",
      "-------------------------\n",
      "0\t1\t2\t3\t"
     ]
    }
   ],
   "source": [
    "def ab(n):\n",
    "    print(n, end='\\t')\n",
    "    if n > 0:\n",
    "        ab(n-1)\n",
    "    else:\n",
    "        print('\\n-------------------------')\n",
    "    print(n, end='\\t')\n",
    "\n",
    "ab(3)"
   ]
  },
  {
   "cell_type": "markdown",
   "metadata": {},
   "source": [
    "<table style=\"width:100%;\"><tbody>\n",
    "    <tr>\n",
    "        <td style=\"text-align:left;\" bgcolor=\"Gainsboro\"><font color=\"black\" size=2.5>相信大家看到这里都有点蒙，小编也一样，我第一次看到这个递归函数时，只能理解到第一个结果。那是因为，大部分人在做事情的时候，中断第一件事，被安排去做第二件事的时候，就会把第一件事后续的事情给忘记，如果在做第二件事的时候，又被中断，被安排去做第三件事，就会把第一件、第二件要做的后续的事情给忘记......，这就是不理解递归函数的原因。</font></td>\n",
    "    </tr>\n",
    "</table>"
   ]
  },
  {
   "cell_type": "markdown",
   "metadata": {},
   "source": [
    "在调用函数本身时，它之后的代码并没有结束，而是在等待条件为 False 时，再接着执行之后的代码，同一个颜色的print()语句等待对应颜色的函数。"
   ]
  },
  {
   "cell_type": "markdown",
   "metadata": {},
   "source": [
    "<table style=\"width:100%;\"><tbody>\n",
    "    <tr>\n",
    "        <td bgcolor=\"LightGreen\" style=\"text-align:left;\">\n",
    "            <font size=2>\n",
    "                ab(3):<br>\n",
    "                &nbsp;&nbsp;&nbsp;&nbsp; print(3)<br>\n",
    "                &nbsp;&nbsp;&nbsp;&nbsp; if 3 > 0:<br>\n",
    "            </font>\n",
    "        </td>\n",
    "    </tr>\n",
    "    <tr>\n",
    "        <td bgcolor=\"Coral\" style=\"text-align:left;\">\n",
    "            <font size=2>\n",
    "                &nbsp;&nbsp;&nbsp;&nbsp;\n",
    "                &nbsp;&nbsp;&nbsp;&nbsp;\n",
    "                ab(2):<br>\n",
    "                &nbsp;&nbsp;&nbsp;&nbsp;\n",
    "                &nbsp;&nbsp;&nbsp;&nbsp;\n",
    "                &nbsp;&nbsp;&nbsp;&nbsp;\n",
    "                print(2)<br>\n",
    "                &nbsp;&nbsp;&nbsp;&nbsp;\n",
    "                &nbsp;&nbsp;&nbsp;&nbsp;\n",
    "                &nbsp;&nbsp;&nbsp;&nbsp; \n",
    "                if 2 > 0:<br>\n",
    "            </font>\n",
    "        </td>\n",
    "    </tr>\n",
    "    <tr>\n",
    "        <td bgcolor=\"DeepSkyBlue\" style=\"text-align:left;\">\n",
    "            <font size=1>\n",
    "                &nbsp;&nbsp;&nbsp;&nbsp;\n",
    "                &nbsp;&nbsp;&nbsp;&nbsp;\n",
    "                &nbsp;&nbsp;&nbsp;&nbsp;\n",
    "                &nbsp;&nbsp;&nbsp;&nbsp;\n",
    "                ab(1):<br>\n",
    "                &nbsp;&nbsp;&nbsp;&nbsp;\n",
    "                &nbsp;&nbsp;&nbsp;&nbsp;\n",
    "                &nbsp;&nbsp;&nbsp;&nbsp;\n",
    "                &nbsp;&nbsp;&nbsp;&nbsp;\n",
    "                &nbsp;&nbsp;&nbsp;&nbsp;\n",
    "                print(1)<br>\n",
    "                &nbsp;&nbsp;&nbsp;&nbsp;\n",
    "                &nbsp;&nbsp;&nbsp;&nbsp;\n",
    "                &nbsp;&nbsp;&nbsp;&nbsp;\n",
    "                &nbsp;&nbsp;&nbsp;&nbsp;\n",
    "                &nbsp;&nbsp;&nbsp;&nbsp; \n",
    "                if 1 > 0:<br>\n",
    "            </font>\n",
    "        </td>\n",
    "    </tr>\n",
    "    <tr>\n",
    "        <td bgcolor=\"Cornsilk\" style=\"text-align:left;\">\n",
    "            <font size=2>\n",
    "                &nbsp;&nbsp;&nbsp;&nbsp;\n",
    "                &nbsp;&nbsp;&nbsp;&nbsp;\n",
    "                &nbsp;&nbsp;&nbsp;&nbsp;\n",
    "                &nbsp;&nbsp;&nbsp;&nbsp;\n",
    "                &nbsp;&nbsp;&nbsp;&nbsp;\n",
    "                &nbsp;&nbsp;&nbsp;&nbsp;\n",
    "                ab(0):<br>\n",
    "                &nbsp;&nbsp;&nbsp;&nbsp;\n",
    "                &nbsp;&nbsp;&nbsp;&nbsp;\n",
    "                &nbsp;&nbsp;&nbsp;&nbsp;\n",
    "                &nbsp;&nbsp;&nbsp;&nbsp;\n",
    "                &nbsp;&nbsp;&nbsp;&nbsp;\n",
    "                &nbsp;&nbsp;&nbsp;&nbsp;\n",
    "                &nbsp;&nbsp;&nbsp;&nbsp;\n",
    "                print(0)<br>\n",
    "                &nbsp;&nbsp;&nbsp;&nbsp;\n",
    "                &nbsp;&nbsp;&nbsp;&nbsp;\n",
    "                &nbsp;&nbsp;&nbsp;&nbsp;\n",
    "                &nbsp;&nbsp;&nbsp;&nbsp;\n",
    "                &nbsp;&nbsp;&nbsp;&nbsp;\n",
    "                &nbsp;&nbsp;&nbsp;&nbsp;\n",
    "                &nbsp;&nbsp;&nbsp;&nbsp; \n",
    "                if 0 > 0:<br>\n",
    "                &nbsp;&nbsp;&nbsp;&nbsp;\n",
    "                &nbsp;&nbsp;&nbsp;&nbsp;\n",
    "                &nbsp;&nbsp;&nbsp;&nbsp;\n",
    "                &nbsp;&nbsp;&nbsp;&nbsp;\n",
    "                &nbsp;&nbsp;&nbsp;&nbsp;\n",
    "                &nbsp;&nbsp;&nbsp;&nbsp;\n",
    "                &nbsp;&nbsp;&nbsp;&nbsp; \n",
    "                &nbsp;&nbsp;&nbsp;&nbsp;\n",
    "                ab(n-1)<br>\n",
    "                &nbsp;&nbsp;&nbsp;&nbsp;\n",
    "                &nbsp;&nbsp;&nbsp;&nbsp;\n",
    "                &nbsp;&nbsp;&nbsp;&nbsp;\n",
    "                &nbsp;&nbsp;&nbsp;&nbsp;\n",
    "                &nbsp;&nbsp;&nbsp;&nbsp;\n",
    "                &nbsp;&nbsp;&nbsp;&nbsp;\n",
    "                &nbsp;&nbsp;&nbsp;&nbsp;\n",
    "                else:<br>\n",
    "                &nbsp;&nbsp;&nbsp;&nbsp;\n",
    "                &nbsp;&nbsp;&nbsp;&nbsp;\n",
    "                &nbsp;&nbsp;&nbsp;&nbsp;\n",
    "                &nbsp;&nbsp;&nbsp;&nbsp;\n",
    "                &nbsp;&nbsp;&nbsp;&nbsp;\n",
    "                &nbsp;&nbsp;&nbsp;&nbsp;\n",
    "                &nbsp;&nbsp;&nbsp;&nbsp; \n",
    "                &nbsp;&nbsp;&nbsp;&nbsp;\n",
    "                print('\\n-------------------------')<br>\n",
    "                &nbsp;&nbsp;&nbsp;&nbsp;\n",
    "                &nbsp;&nbsp;&nbsp;&nbsp;\n",
    "                &nbsp;&nbsp;&nbsp;&nbsp;\n",
    "                &nbsp;&nbsp;&nbsp;&nbsp;\n",
    "                &nbsp;&nbsp;&nbsp;&nbsp;\n",
    "                &nbsp;&nbsp;&nbsp;&nbsp;\n",
    "                &nbsp;&nbsp;&nbsp;&nbsp;\n",
    "                print(0)\n",
    "            </font>\n",
    "        </td>\n",
    "    </tr>\n",
    "    <tr>\n",
    "        <td bgcolor=\"DeepSkyBlue\" style=\"text-align:left;\">\n",
    "            <font size=1>\n",
    "                &nbsp;&nbsp;&nbsp;&nbsp;\n",
    "                &nbsp;&nbsp;&nbsp;&nbsp;\n",
    "                &nbsp;&nbsp;&nbsp;&nbsp;\n",
    "                &nbsp;&nbsp;&nbsp;&nbsp;\n",
    "                &nbsp;&nbsp;&nbsp;&nbsp; \n",
    "                print(1)\n",
    "            </font>\n",
    "        </td>\n",
    "    </tr>\n",
    "        <tr>\n",
    "        <td bgcolor=\"Coral\" style=\"text-align:left;\">\n",
    "            <font size=2>\n",
    "                &nbsp;&nbsp;&nbsp;&nbsp;\n",
    "                &nbsp;&nbsp;&nbsp;&nbsp;\n",
    "                &nbsp;&nbsp;&nbsp;&nbsp;\n",
    "                print(2)<br>\n",
    "            </font>\n",
    "        </td>\n",
    "    </tr>\n",
    "        <tr>\n",
    "        <td bgcolor=\"LightGreen\" style=\"text-align:left;\">\n",
    "            <font size=2>\n",
    "                &nbsp;&nbsp;&nbsp;&nbsp; print(3)\n",
    "            </font>\n",
    "        </td>\n",
    "    </tr>\n",
    "</table>"
   ]
  },
  {
   "cell_type": "markdown",
   "metadata": {},
   "source": [
    "<center >\n",
    "    [markdown 表格样式设置（跨行表格，背景色等）](https://blog.csdn.net/thither_shore/article/details/52328313)\n",
    "</center>\n",
    "\n",
    "<table style=\"width:100%;\"><tbody>\n",
    "    <tr>\n",
    "        <td bgcolor=\"LightGreen\"><font color=\"Hotpink\">此处实现方法利用 CSDN-markdown 内嵌 html 语言的优势</font></td>\n",
    "        <td bgcolor=\"LightGreen\"><font color=\"Hotpink\">Hotpink</font></td>\n",
    "        <td bgcolor=\"LightGreen\"><font size=2>rgb(240, 248, 255)</font></td>\n",
    "    </tr>\n",
    "    <tr>\n",
    "        <td bgcolor=\"LightSalmon\"><font color=\"green\">借助 table, tr, td 等表格标签的 bgcolor 属性实现背景色设置</font></td>\n",
    "        <td bgcolor=\"LightSalmon\"><font color=\"black\">AntiqueWhite</font></td>\n",
    "        <td bgcolor=\"LightSalmon\"><font size=2>rgb(240, 248, 203)</font></td>\n",
    "    </tr> \n",
    "</table>\n"
   ]
  },
  {
   "cell_type": "markdown",
   "metadata": {},
   "source": [
    "<table style=\"width:100%;\"><tbody>\n",
    "    <tr><td bgcolor=\"Hotpink\" style=\"text-align:left;\">\n",
    "        <font size=2>第一行</font>\n",
    "    </td></tr>\n",
    "    <tr><td bgcolor=\"Pink\" style=\"text-align:left;\">\n",
    "        <font size=2>第二行</font>\n",
    "    </td></tr>\n",
    "</table>\n",
    "                 \n",
    "                                "
   ]
  },
  {
   "cell_type": "markdown",
   "metadata": {},
   "source": [
    "\n",
    "\n",
    "\n",
    "\n",
    "\n",
    "\n",
    "\n",
    "\n",
    "\n",
    "\n",
    "\n",
    "\n",
    "\n",
    "\n",
    "\n",
    "\n",
    "\n",
    "\n",
    "\n",
    "\n",
    "\n",
    "\n",
    "\n",
    "\n",
    "\n",
    "\n",
    "\n",
    "\n",
    "\n",
    "\n",
    "\n"
   ]
  }
 ],
 "metadata": {
  "kernelspec": {
   "display_name": "Python 3",
   "language": "python",
   "name": "python3"
  },
  "language_info": {
   "codemirror_mode": {
    "name": "ipython",
    "version": 3
   },
   "file_extension": ".py",
   "mimetype": "text/x-python",
   "name": "python",
   "nbconvert_exporter": "python",
   "pygments_lexer": "ipython3",
   "version": "3.6.4"
  }
 },
 "nbformat": 4,
 "nbformat_minor": 2
}
