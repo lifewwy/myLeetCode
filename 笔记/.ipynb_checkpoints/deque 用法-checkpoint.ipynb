{
 "cells": [
  {
   "cell_type": "markdown",
   "metadata": {},
   "source": [
    "[Python deque用法介绍](https://blog.csdn.net/liangguohuan/article/details/7088265)\n",
    "[python中deque模块详解](https://blog.csdn.net/qins_superlover/article/details/44338415)"
   ]
  },
  {
   "cell_type": "markdown",
   "metadata": {},
   "source": [
    "deque模块是python标准库collections中的一项，它提供了```两端```都可以操作的序列，这意味着，在序列的前后你都可以执行添加或删除操作。"
   ]
  },
  {
   "cell_type": "code",
   "execution_count": 45,
   "metadata": {},
   "outputs": [
    {
     "name": "stdout",
     "output_type": "stream",
     "text": [
      "deque(['1', '2', '3'])\n",
      "deque(['1', '2', '3'])\n",
      "deque(['1', '2', '3'])\n",
      "\n",
      "['1', '2', '3']\n",
      "['1', '2', '3', '123']\n"
     ]
    }
   ],
   "source": [
    "# 1.创建deque序列：\n",
    "\n",
    "from collections import deque\n",
    "\n",
    "d1=deque()\n",
    "d1.extend('123')\n",
    "print(d1)\n",
    "\n",
    "d2=deque('123')\n",
    "print(d2)\n",
    "\n",
    "d3=deque(['1','2','3'])\n",
    "print(d3)\n",
    "\n",
    "print()\n",
    "list1 = [] # list\n",
    "list1.extend('123')\n",
    "print(list1)\n",
    "\n",
    "# extend 与 append 的区别\n",
    "list1.append('123')\n",
    "print(list1)"
   ]
  },
  {
   "cell_type": "code",
   "execution_count": 15,
   "metadata": {},
   "outputs": [],
   "source": [
    "# 2.deque提供了类似list的操作方法：\n",
    "from collections import deque\n",
    "\n",
    "d=deque()\n",
    "\n",
    "d.append(3)\n",
    "\n",
    "d.append(8)\n",
    "\n",
    "d.append(1)\n",
    "\n",
    "# 那么此时d=deque([3,8,1]),len(d)=3,d[0]=3,d[-1]=1"
   ]
  },
  {
   "cell_type": "code",
   "execution_count": 23,
   "metadata": {},
   "outputs": [
    {
     "name": "stdout",
     "output_type": "stream",
     "text": [
      "5 deque(['1', '2', '3', '4'])\n",
      "1 deque(['2', '3', '4'])\n"
     ]
    }
   ],
   "source": [
    "# 3.两端都使用pop:\n",
    "from collections import deque\n",
    "d=deque('12345')\n",
    "\n",
    "PopedValue = d.pop()\n",
    "print(PopedValue, d)\n",
    "\n",
    "PopedValue = d.popleft()\n",
    "print(PopedValue, d)\n",
    "\n",
    "# d.pop()抛出的是’5’,d.popleft()抛出的是’1’，可见默认pop()抛出的是最后一个元素。"
   ]
  },
  {
   "cell_type": "code",
   "execution_count": 26,
   "metadata": {},
   "outputs": [
    {
     "name": "stdout",
     "output_type": "stream",
     "text": [
      "deque(['3', '4', '5', '6', '7'], maxlen=5)\n"
     ]
    }
   ],
   "source": [
    "# 4.限制deque的长度,当限制长度的deque增加超过限制数的项时，另一边的项会自动删除。\n",
    "from collections import deque\n",
    "d=deque(maxlen=5)\n",
    "\n",
    "for i in range(8):\n",
    "\n",
    "    d.append(str(i))\n",
    "    \n",
    "print(d)\n",
    "\n"
   ]
  },
  {
   "cell_type": "code",
   "execution_count": 29,
   "metadata": {},
   "outputs": [
    {
     "name": "stdout",
     "output_type": "stream",
     "text": [
      "deque([1, 2, 3, 4, 5, 99, 8])\n",
      "deque([0, 0, 0, 1, 2, 3, 4, 5, 99, 8])\n"
     ]
    }
   ],
   "source": [
    "# 5.添加list各项到deque中：\n",
    "from collections import deque\n",
    "\n",
    "d=deque([1,2,3,4,5])\n",
    "\n",
    "d.extend([99,8])\n",
    "print(d)\n",
    "d.extendleft([0,0,0])\n",
    "print(d)"
   ]
  },
  {
   "cell_type": "code",
   "execution_count": 11,
   "metadata": {},
   "outputs": [
    {
     "name": "stdout",
     "output_type": "stream",
     "text": [
      "Deque: deque(['a', 'b', 'c', 'd', 'e', 'f', 'g'])\n",
      "Length: 7\n",
      "Left end: a\n",
      "Right end: g\n",
      "remove(c): deque(['a', 'b', 'd', 'e', 'f', 'g'])\n"
     ]
    }
   ],
   "source": [
    "from collections import deque\n",
    "\n",
    "d = deque('abcdefg')  \n",
    "\n",
    "print ('Deque:',d  )\n",
    "print ('Length:',len(d) ) \n",
    "print ('Left end:',d[0] ) \n",
    "print( 'Right end:',d[-1])  \n",
    "  \n",
    "d.remove('c')  \n",
    "print( 'remove(c):',d)"
   ]
  },
  {
   "cell_type": "code",
   "execution_count": 46,
   "metadata": {},
   "outputs": [
    {
     "data": {
      "text/plain": [
       "4"
      ]
     },
     "execution_count": 46,
     "metadata": {},
     "output_type": "execute_result"
    }
   ],
   "source": [
    "# 嵌套元素的访问\n",
    "x = [2,[(3,4),8]]\n",
    "x[1][0][1]"
   ]
  },
  {
   "cell_type": "code",
   "execution_count": null,
   "metadata": {},
   "outputs": [],
   "source": []
  }
 ],
 "metadata": {
  "kernelspec": {
   "display_name": "Python 3",
   "language": "python",
   "name": "python3"
  },
  "language_info": {
   "codemirror_mode": {
    "name": "ipython",
    "version": 3
   },
   "file_extension": ".py",
   "mimetype": "text/x-python",
   "name": "python",
   "nbconvert_exporter": "python",
   "pygments_lexer": "ipython3",
   "version": "3.6.4"
  }
 },
 "nbformat": 4,
 "nbformat_minor": 2
}
