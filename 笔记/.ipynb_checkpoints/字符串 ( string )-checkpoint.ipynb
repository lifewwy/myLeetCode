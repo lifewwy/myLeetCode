{
 "cells": [
  {
   "cell_type": "markdown",
   "metadata": {},
   "source": [
    "有一点已经众所周知。把变量名称或没有定义输出结果的语句放在cell的最后一行，无需print语句，Jupyter\n",
    "也会显示变量值。  \n",
    "当使用Pandas DataFrames时这一点尤其有用，因为输出结果为整齐的表格。  \n",
    "鲜为人知的是，你可以通过修改内核选项ast_note_interactivity，使得Jupyter对独占一行的所有变量或者语\n",
    "句都自动显示，这样你就可以马上看到多个语句的运行结果了。 "
   ]
  },
  {
   "cell_type": "code",
   "execution_count": 2,
   "metadata": {},
   "outputs": [],
   "source": [
    "from IPython.core.interactiveshell import InteractiveShell\n",
    "InteractiveShell.ast_node_interactivity='all'"
   ]
  },
  {
   "cell_type": "markdown",
   "metadata": {},
   "source": [
    "## python中单引号和双引号使用完全相同。"
   ]
  },
  {
   "cell_type": "code",
   "execution_count": 3,
   "metadata": {},
   "outputs": [
    {
     "name": "stdout",
     "output_type": "stream",
     "text": [
      "abc\n",
      "abc123\n"
     ]
    }
   ],
   "source": [
    "print('abc')\n",
    "print(\"abc123\")"
   ]
  },
  {
   "cell_type": "markdown",
   "metadata": {},
   "source": [
    "## 使用三引号('''或\"\"\")可以指定一个多行字符串。"
   ]
  },
  {
   "cell_type": "code",
   "execution_count": 4,
   "metadata": {},
   "outputs": [
    {
     "name": "stdout",
     "output_type": "stream",
     "text": [
      "使用三引号可以\n",
      "指定一个多行字符串\n"
     ]
    }
   ],
   "source": [
    "print('''使用三引号可以\n",
    "指定一个多行字符串''')"
   ]
  },
  {
   "cell_type": "code",
   "execution_count": 5,
   "metadata": {},
   "outputs": [
    {
     "name": "stdout",
     "output_type": "stream",
     "text": [
      "使用三引号可以\n",
      "指定一个多行字符串\n"
     ]
    }
   ],
   "source": [
    "print(\"\"\"使用三引号可以\n",
    "指定一个多行字符串\"\"\")"
   ]
  },
  {
   "cell_type": "code",
   "execution_count": null,
   "metadata": {},
   "outputs": [],
   "source": []
  },
  {
   "cell_type": "markdown",
   "metadata": {},
   "source": [
    "## Python 没有单独的字符类型，一个字符就是长度为 1 的字符串。"
   ]
  },
  {
   "cell_type": "markdown",
   "metadata": {},
   "source": [
    "## string.join( seq ) : 以 string 作为分隔符，将 seq 中所有的元素合并为一个新的字符串"
   ]
  },
  {
   "cell_type": "code",
   "execution_count": 6,
   "metadata": {},
   "outputs": [
    {
     "data": {
      "text/plain": [
       "'Howareyou'"
      ]
     },
     "execution_count": 6,
     "metadata": {},
     "output_type": "execute_result"
    }
   ],
   "source": [
    "seq = ['How','are','you']\n",
    "''.join(seq)"
   ]
  },
  {
   "cell_type": "code",
   "execution_count": 7,
   "metadata": {},
   "outputs": [
    {
     "data": {
      "text/plain": [
       "'How are you'"
      ]
     },
     "execution_count": 7,
     "metadata": {},
     "output_type": "execute_result"
    }
   ],
   "source": [
    "' '.join(seq)"
   ]
  },
  {
   "cell_type": "code",
   "execution_count": 8,
   "metadata": {},
   "outputs": [
    {
     "data": {
      "text/plain": [
       "'How-are-you'"
      ]
     },
     "execution_count": 8,
     "metadata": {},
     "output_type": "execute_result"
    }
   ],
   "source": [
    "'-'.join(seq)"
   ]
  },
  {
   "cell_type": "code",
   "execution_count": 9,
   "metadata": {},
   "outputs": [
    {
     "data": {
      "text/plain": [
       "'How*are*you'"
      ]
     },
     "execution_count": 9,
     "metadata": {},
     "output_type": "execute_result"
    }
   ],
   "source": [
    "seq = 'How','are','you' # tuple\n",
    "'*'.join(seq)"
   ]
  },
  {
   "cell_type": "code",
   "execution_count": 10,
   "metadata": {},
   "outputs": [
    {
     "data": {
      "text/plain": [
       "'h/e/l/l/o'"
      ]
     },
     "execution_count": 10,
     "metadata": {},
     "output_type": "execute_result"
    }
   ],
   "source": [
    "seq = 'hello'\n",
    "'/'.join(seq)"
   ]
  },
  {
   "cell_type": "markdown",
   "metadata": {},
   "source": [
    "## string.split(separator): 字符串→列表 或 元组"
   ]
  },
  {
   "cell_type": "code",
   "execution_count": 11,
   "metadata": {},
   "outputs": [
    {
     "data": {
      "text/plain": [
       "['abc', 'def']"
      ]
     },
     "execution_count": 11,
     "metadata": {},
     "output_type": "execute_result"
    }
   ],
   "source": [
    "'abc_def'.split('_')"
   ]
  },
  {
   "cell_type": "code",
   "execution_count": 12,
   "metadata": {},
   "outputs": [
    {
     "data": {
      "text/plain": [
       "('Who', 'are', 'you', '?')"
      ]
     },
     "execution_count": 12,
     "metadata": {},
     "output_type": "execute_result"
    }
   ],
   "source": [
    "x1, x2, x3, x4 = 'Who are you ?'.split(' ')\n",
    "x1, x2, x3, x4 # tuple"
   ]
  },
  {
   "cell_type": "markdown",
   "metadata": {},
   "source": [
    "## ord('a') ~ ord('z')&nbsp;&nbsp;&nbsp;&nbsp;:&nbsp;&nbsp;&nbsp;&nbsp;97 ~ 122"
   ]
  },
  {
   "cell_type": "code",
   "execution_count": 13,
   "metadata": {},
   "outputs": [
    {
     "data": {
      "text/plain": [
       "97"
      ]
     },
     "execution_count": 13,
     "metadata": {},
     "output_type": "execute_result"
    }
   ],
   "source": [
    "ord('a')"
   ]
  },
  {
   "cell_type": "code",
   "execution_count": 14,
   "metadata": {},
   "outputs": [
    {
     "data": {
      "text/plain": [
       "[97, 98, 99, 100, 101, 102, 103]"
      ]
     },
     "execution_count": 14,
     "metadata": {},
     "output_type": "execute_result"
    }
   ],
   "source": [
    "[ord(s) for s in 'abcdefg']"
   ]
  },
  {
   "cell_type": "code",
   "execution_count": 15,
   "metadata": {},
   "outputs": [
    {
     "data": {
      "text/plain": [
       "{',ia', 'Fdc', 'pie'}"
      ]
     },
     "execution_count": 15,
     "metadata": {},
     "output_type": "execute_result"
    }
   ],
   "source": [
    "d = \"For compound field names, these functions are only called for the first component\"\n",
    "words = ['how', 'are', 'you']\n",
    "{''.join( d[ord(s)-97] for s in w ) for w in words}"
   ]
  },
  {
   "cell_type": "markdown",
   "metadata": {},
   "source": [
    "## 字符串可以用 + 运算符连接在一起，用 * 运算符重复。"
   ]
  },
  {
   "cell_type": "code",
   "execution_count": 16,
   "metadata": {},
   "outputs": [
    {
     "name": "stdout",
     "output_type": "stream",
     "text": [
      "这是一句话。\n",
      "这是一句话。这是一句话。这是一句话。这是一句话。这是一句话。\n"
     ]
    }
   ],
   "source": [
    "print( '这是' + '一句话。')\n",
    "print( ('这是' + '一句话。') * 5 )"
   ]
  },
  {
   "cell_type": "code",
   "execution_count": 17,
   "metadata": {},
   "outputs": [
    {
     "name": "stdout",
     "output_type": "stream",
     "text": [
      "a\n",
      "[]\n",
      "()\n"
     ]
    }
   ],
   "source": [
    "# sequence*0 得到空序列\n",
    "# 空字符串、空列表、空元组\n",
    "print('abc'*0 + 'a')\n",
    "print([1,2,3]*0)\n",
    "print((1,2,3)*0)"
   ]
  },
  {
   "cell_type": "markdown",
   "metadata": {},
   "source": [
    "## Python 中的字符串有两种索引方式，从左往右以 0 开始，从右往左以 -1 开始。\n",
    ">str[a:b] <font size=2 color=red>不包括</font> str[b] "
   ]
  },
  {
   "cell_type": "code",
   "execution_count": 18,
   "metadata": {},
   "outputs": [
    {
     "name": "stdout",
     "output_type": "stream",
     "text": [
      "和\n",
      "万\n",
      "中华人民共和国万\n",
      "中\n",
      "人民共\n",
      "人民共和国万岁\n",
      "中华人民共和国\n",
      "\n",
      "岁万国和共民人华中\n",
      "岁万国和共\n"
     ]
    }
   ],
   "source": [
    "str = '中华人民共和国万岁'\n",
    "print( str[5] )\n",
    "print( str[-2] )             # 输出字符串倒数第二个字符\n",
    "print( str[0:-1] )           # 输出第一个到倒数第二个的所有字符\n",
    "print( str[0] )              # 输出字符串第一个字符\n",
    "print( str[2:5] )            # 输出从第三个开始到第五个的字符，不包括 str[5]\n",
    "print( str[2:] )             # 输出从第三个开始的后的所有字符\n",
    "print( str[:-2] )\n",
    "\n",
    "# reverse\n",
    "print()\n",
    "print(str[::-1])\n",
    "print(str[:3:-1])"
   ]
  },
  {
   "cell_type": "markdown",
   "metadata": {},
   "source": [
    "## 转义符 '\\'"
   ]
  },
  {
   "cell_type": "code",
   "execution_count": 19,
   "metadata": {},
   "outputs": [
    {
     "name": "stdout",
     "output_type": "stream",
     "text": [
      "hello\n",
      "runoob\n"
     ]
    }
   ],
   "source": [
    "print('hello\\nrunoob')      # 使用反斜杠(\\)+n转义特殊字符"
   ]
  },
  {
   "cell_type": "code",
   "execution_count": 20,
   "metadata": {},
   "outputs": [
    {
     "name": "stdout",
     "output_type": "stream",
     "text": [
      "hello\\nrunoob\n"
     ]
    }
   ],
   "source": [
    "# 反斜杠可以用来转义，使用r可以让反斜杠不发生转义。 \n",
    "# 如 r\"this is a line with \\n\" 则\\n会显示，并不是换行。\n",
    "\n",
    "print(r'hello\\nrunoob')     \n",
    "\n",
    "# 在字符串前面添加一个 r，表示原始字符串，不会发生转义"
   ]
  },
  {
   "cell_type": "code",
   "execution_count": 21,
   "metadata": {},
   "outputs": [
    {
     "name": "stdout",
     "output_type": "stream",
     "text": [
      "这是一句话。\n"
     ]
    }
   ],
   "source": [
    "# Python可以在同一行中使用多条语句，语句之间使用分号(;)分割，\n",
    "# 以下是一个简单的实例：\n",
    "\n",
    "x = '这是'; y = '一句话。'; print( x+y )"
   ]
  },
  {
   "cell_type": "markdown",
   "metadata": {},
   "source": [
    "## Print 输出"
   ]
  },
  {
   "cell_type": "code",
   "execution_count": 22,
   "metadata": {},
   "outputs": [
    {
     "name": "stdout",
     "output_type": "stream",
     "text": [
      "a\n",
      "b\n",
      "---------\n",
      "a b \n",
      "---------\n",
      "a\tb\t\n"
     ]
    }
   ],
   "source": [
    "# print 默认输出是换行的，如果要实现不换行需要在变量末尾加上 end=\" \"\n",
    "x=\"a\" ; y=\"b\"\n",
    "# 换行输出\n",
    "print( x )\n",
    "print( y )\n",
    "print('---------')\n",
    "# 不换行输出\n",
    "print( x, end=\" \" )\n",
    "print( y, end=\" \" )\n",
    "print()\n",
    "print('---------')\n",
    "print( x, end=\"\\t\" )\n",
    "print( y, end=\"\\t\" )\n",
    "print()"
   ]
  },
  {
   "cell_type": "markdown",
   "metadata": {},
   "source": [
    "## 遍历字符串"
   ]
  },
  {
   "cell_type": "code",
   "execution_count": 23,
   "metadata": {},
   "outputs": [
    {
     "name": "stdout",
     "output_type": "stream",
     "text": [
      "中 华 人 民 共 和 国 \n",
      "0 中\n",
      "1 华\n",
      "2 人\n",
      "3 民\n",
      "4 共\n",
      "5 和\n",
      "6 国\n"
     ]
    }
   ],
   "source": [
    "s = '中华人民共和国'\n",
    "for c in s:\n",
    "    print(c,end=' ')\n",
    "\n",
    "print()\n",
    "\n",
    "for i,c in enumerate(s):\n",
    "    print(i,c)"
   ]
  },
  {
   "cell_type": "markdown",
   "metadata": {},
   "source": [
    "## 不能通过索引直接改变字符串中的某个字符\n",
    "因为字符串是不可变对象，试图通过索引直接修改其某个字符会出现错误。  \n",
    "TypeError: 'str' object does not support item assignment"
   ]
  },
  {
   "cell_type": "code",
   "execution_count": 24,
   "metadata": {},
   "outputs": [],
   "source": [
    "# s = 'abc'\n",
    "# s[1] = 'p'\n",
    "# TypeError: 'str' object does not support item assignment"
   ]
  },
  {
   "cell_type": "markdown",
   "metadata": {},
   "source": [
    "## 倒序索引"
   ]
  },
  {
   "cell_type": "code",
   "execution_count": 25,
   "metadata": {
    "scrolled": true
   },
   "outputs": [
    {
     "name": "stdout",
     "output_type": "stream",
     "text": [
      "gfecba\n",
      "gfecba\n",
      "fec \n",
      "\n",
      "['a', 'b', 'c', 'e', 'f', 'g']\n",
      "['g', 'f', 'e', 'c', 'b', 'a']\n"
     ]
    }
   ],
   "source": [
    "x = 'abcefg'\n",
    "print(x[::-1])\n",
    "\n",
    "for i in x[::-1]:\n",
    "    print(i,end='')\n",
    "\n",
    "print()\n",
    "print(x[-2:1:-1],'\\n')  # x[start:end:step]\n",
    "\n",
    "l = list(x); print(l); print(l[::-1])"
   ]
  },
  {
   "cell_type": "code",
   "execution_count": 26,
   "metadata": {},
   "outputs": [
    {
     "name": "stdout",
     "output_type": "stream",
     "text": [
      "s'teL ekat edoCteeL tsetnoc\n"
     ]
    }
   ],
   "source": [
    "s = \"Let's take LeetCode contest\"\n",
    "s1 = ' '.join([word[::-1] for word in s.split(' ')])\n",
    "print(s1)\n"
   ]
  },
  {
   "cell_type": "markdown",
   "metadata": {},
   "source": [
    "## 大小写字母转换"
   ]
  },
  {
   "cell_type": "code",
   "execution_count": 27,
   "metadata": {},
   "outputs": [
    {
     "name": "stdout",
     "output_type": "stream",
     "text": [
      "abcdefg\n",
      "ABCDEFG\n"
     ]
    }
   ],
   "source": [
    "x = 'abcDEFG'\n",
    "print(x.lower())\n",
    "print(x.upper())"
   ]
  },
  {
   "cell_type": "markdown",
   "metadata": {},
   "source": [
    "## 判断字符串是否全是字母"
   ]
  },
  {
   "cell_type": "code",
   "execution_count": 28,
   "metadata": {},
   "outputs": [
    {
     "name": "stdout",
     "output_type": "stream",
     "text": [
      "True\n",
      "True\n",
      "False\n",
      "False\n",
      "False\n",
      "False\n"
     ]
    }
   ],
   "source": [
    "# Return true if the string is non-empty and \n",
    "# all characters are alphabetic.\n",
    "\n",
    "print('a'.isalpha())\n",
    "print('abc'.isalpha())\n",
    "print('abc5'.isalpha())\n",
    "print('abc+'.isalpha())\n",
    "print('abc*'.isalpha())\n",
    "print('abc/'.isalpha())"
   ]
  },
  {
   "cell_type": "markdown",
   "metadata": {},
   "source": [
    "## 字符串对象的所有方法"
   ]
  },
  {
   "cell_type": "markdown",
   "metadata": {},
   "source": [
    "参考  \n",
    ">[Python String Methods](https://www.programiz.com/python-programming/methods/string)"
   ]
  },
  {
   "cell_type": "code",
   "execution_count": 29,
   "metadata": {},
   "outputs": [
    {
     "name": "stdout",
     "output_type": "stream",
     "text": [
      "['capitalize', 'casefold', 'center', 'count', 'encode', 'endswith', 'expandtabs', 'find', 'format', 'format_map', 'index', 'isalnum', 'isalpha', 'isdecimal', 'isdigit', 'isidentifier', 'islower', 'isnumeric', 'isprintable', 'isspace', 'istitle', 'isupper', 'join', 'ljust', 'lower', 'lstrip', 'maketrans', 'partition', 'replace', 'rfind', 'rindex', 'rjust', 'rpartition', 'rsplit', 'rstrip', 'split', 'splitlines', 'startswith', 'strip', 'swapcase', 'title', 'translate', 'upper', 'zfill']\n"
     ]
    }
   ],
   "source": [
    "print([i for i in dir(str) if i[0]!='_'])"
   ]
  },
  {
   "cell_type": "code",
   "execution_count": 30,
   "metadata": {},
   "outputs": [],
   "source": [
    "# dir(str)"
   ]
  },
  {
   "cell_type": "code",
   "execution_count": 31,
   "metadata": {},
   "outputs": [
    {
     "name": "stdout",
     "output_type": "stream",
     "text": [
      "Help on built-in function isalpha:\n",
      "\n",
      "isalpha(...) method of builtins.str instance\n",
      "    S.isalpha() -> bool\n",
      "    \n",
      "    Return True if all characters in S are alphabetic\n",
      "    and there is at least one character in S, False otherwise.\n",
      "\n"
     ]
    }
   ],
   "source": [
    "help(str.isalpha)"
   ]
  },
  {
   "cell_type": "code",
   "execution_count": 32,
   "metadata": {},
   "outputs": [
    {
     "name": "stdout",
     "output_type": "stream",
     "text": [
      "Help on built-in function find:\n",
      "\n",
      "find(...) method of builtins.str instance\n",
      "    S.find(sub[, start[, end]]) -> int\n",
      "    \n",
      "    Return the lowest index in S where substring sub is found,\n",
      "    such that sub is contained within S[start:end].  Optional\n",
      "    arguments start and end are interpreted as in slice notation.\n",
      "    \n",
      "    Return -1 on failure.\n",
      "\n"
     ]
    }
   ],
   "source": [
    "help(str.find)"
   ]
  },
  {
   "cell_type": "code",
   "execution_count": 33,
   "metadata": {},
   "outputs": [
    {
     "data": {
      "text/plain": [
       "2"
      ]
     },
     "execution_count": 33,
     "metadata": {},
     "output_type": "execute_result"
    }
   ],
   "source": [
    "'abcabc'.find('c')"
   ]
  },
  {
   "cell_type": "code",
   "execution_count": null,
   "metadata": {},
   "outputs": [],
   "source": []
  },
  {
   "cell_type": "markdown",
   "metadata": {},
   "source": [
    "## 判断字符串是否全是大写字母 / 小写字母 "
   ]
  },
  {
   "cell_type": "code",
   "execution_count": 34,
   "metadata": {},
   "outputs": [
    {
     "data": {
      "text/plain": [
       "True"
      ]
     },
     "execution_count": 34,
     "metadata": {},
     "output_type": "execute_result"
    }
   ],
   "source": [
    "'abc'.islower()"
   ]
  },
  {
   "cell_type": "code",
   "execution_count": 35,
   "metadata": {},
   "outputs": [
    {
     "data": {
      "text/plain": [
       "True"
      ]
     },
     "execution_count": 35,
     "metadata": {},
     "output_type": "execute_result"
    }
   ],
   "source": [
    "'ABC'.isupper()"
   ]
  },
  {
   "cell_type": "code",
   "execution_count": 36,
   "metadata": {},
   "outputs": [
    {
     "data": {
      "text/plain": [
       "False"
      ]
     },
     "execution_count": 36,
     "metadata": {},
     "output_type": "execute_result"
    }
   ],
   "source": [
    "'Abc'.isupper()"
   ]
  },
  {
   "cell_type": "code",
   "execution_count": null,
   "metadata": {},
   "outputs": [],
   "source": []
  },
  {
   "cell_type": "markdown",
   "metadata": {},
   "source": [
    "## 判断字符串是否符合 Title 格式"
   ]
  },
  {
   "cell_type": "code",
   "execution_count": 37,
   "metadata": {},
   "outputs": [
    {
     "data": {
      "text/plain": [
       "True"
      ]
     },
     "execution_count": 37,
     "metadata": {},
     "output_type": "execute_result"
    }
   ],
   "source": [
    "'Book'.istitle()"
   ]
  },
  {
   "cell_type": "code",
   "execution_count": 38,
   "metadata": {},
   "outputs": [
    {
     "data": {
      "text/plain": [
       "True"
      ]
     },
     "execution_count": 38,
     "metadata": {},
     "output_type": "execute_result"
    }
   ],
   "source": [
    "'This Is A Book'.istitle()"
   ]
  },
  {
   "cell_type": "code",
   "execution_count": 39,
   "metadata": {},
   "outputs": [
    {
     "data": {
      "text/plain": [
       "True"
      ]
     },
     "execution_count": 39,
     "metadata": {},
     "output_type": "execute_result"
    }
   ],
   "source": [
    "'Hello World'.istitle()"
   ]
  },
  {
   "cell_type": "code",
   "execution_count": null,
   "metadata": {},
   "outputs": [],
   "source": []
  },
  {
   "cell_type": "markdown",
   "metadata": {},
   "source": [
    "## str.```isdecimal( )```, str.```isdigit( )``` and str.```isnumeric( )```"
   ]
  },
  {
   "cell_type": "markdown",
   "metadata": {},
   "source": [
    "The superscript and subscripts are considered digit characters but not decimals. If the string contains these characters (usually written using unicode), isdecimal() returns False.  \n",
    "\n",
    "Similarly, roman numerals, currency numerators and fractions are considered numeric numbers (usually written using unicode) but not decimals. The isdecimal() also returns False in this case.\n",
    "\n",
    "There are two methods isdigit() and isnumeric() that checks whether the string contains digit characters and numeric characters respectively.\n",
    "Learn more about isdigit() and isnumeric() methods."
   ]
  },
  {
   "cell_type": "code",
   "execution_count": 40,
   "metadata": {},
   "outputs": [
    {
     "name": "stdout",
     "output_type": "stream",
     "text": [
      "True\n",
      "False\n"
     ]
    }
   ],
   "source": [
    "print('234'.isdecimal())\n",
    "print('234.3'.isdecimal())\n"
   ]
  },
  {
   "cell_type": "code",
   "execution_count": 43,
   "metadata": {},
   "outputs": [
    {
     "data": {
      "text/plain": [
       "True"
      ]
     },
     "execution_count": 43,
     "metadata": {},
     "output_type": "execute_result"
    },
    {
     "data": {
      "text/plain": [
       "True"
      ]
     },
     "execution_count": 43,
     "metadata": {},
     "output_type": "execute_result"
    },
    {
     "data": {
      "text/plain": [
       "True"
      ]
     },
     "execution_count": 43,
     "metadata": {},
     "output_type": "execute_result"
    },
    {
     "data": {
      "text/plain": [
       "False"
      ]
     },
     "execution_count": 43,
     "metadata": {},
     "output_type": "execute_result"
    },
    {
     "data": {
      "text/plain": [
       "False"
      ]
     },
     "execution_count": 43,
     "metadata": {},
     "output_type": "execute_result"
    },
    {
     "data": {
      "text/plain": [
       "True"
      ]
     },
     "execution_count": 43,
     "metadata": {},
     "output_type": "execute_result"
    }
   ],
   "source": [
    "num = \"1\"  \n",
    "num.isdigit()   # True\n",
    "num.isdecimal() # True\n",
    "num.isnumeric() # True\n",
    "\n",
    "num = \"四\" # 汉字\n",
    "num.isdigit()   # False\n",
    "num.isdecimal() # False\n",
    "num.isnumeric() # True"
   ]
  },
  {
   "cell_type": "code",
   "execution_count": null,
   "metadata": {},
   "outputs": [],
   "source": []
  },
  {
   "cell_type": "code",
   "execution_count": null,
   "metadata": {},
   "outputs": [],
   "source": []
  }
 ],
 "metadata": {
  "kernelspec": {
   "display_name": "Python 3",
   "language": "python",
   "name": "python3"
  },
  "language_info": {
   "codemirror_mode": {
    "name": "ipython",
    "version": 3
   },
   "file_extension": ".py",
   "mimetype": "text/x-python",
   "name": "python",
   "nbconvert_exporter": "python",
   "pygments_lexer": "ipython3",
   "version": "3.6.4"
  },
  "toc": {
   "base_numbering": 1,
   "nav_menu": {},
   "number_sections": true,
   "sideBar": true,
   "skip_h1_title": false,
   "title_cell": "Table of Contents",
   "title_sidebar": "Contents",
   "toc_cell": false,
   "toc_position": {},
   "toc_section_display": true,
   "toc_window_display": true
  }
 },
 "nbformat": 4,
 "nbformat_minor": 2
}
