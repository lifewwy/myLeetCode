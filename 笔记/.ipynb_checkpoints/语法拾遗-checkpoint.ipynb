{
 "cells": [
  {
   "cell_type": "markdown",
   "metadata": {},
   "source": [
    "# 逻辑运算符两边不需要括号( )"
   ]
  },
  {
   "cell_type": "code",
   "execution_count": 2,
   "metadata": {},
   "outputs": [
    {
     "data": {
      "text/plain": [
       "False"
      ]
     },
     "execution_count": 2,
     "metadata": {},
     "output_type": "execute_result"
    }
   ],
   "source": [
    "7 == 9 and 6 == 6"
   ]
  },
  {
   "cell_type": "code",
   "execution_count": 3,
   "metadata": {},
   "outputs": [
    {
     "name": "stdout",
     "output_type": "stream",
     "text": [
      "True\n"
     ]
    }
   ],
   "source": [
    "if 7 == 9 or 2 == 2:\n",
    "    print('True')"
   ]
  },
  {
   "cell_type": "markdown",
   "metadata": {},
   "source": [
    "# True, False, None 首字母必须大写"
   ]
  },
  {
   "cell_type": "code",
   "execution_count": 1,
   "metadata": {},
   "outputs": [],
   "source": [
    "True\n",
    "False\n",
    "None"
   ]
  },
  {
   "cell_type": "markdown",
   "metadata": {},
   "source": [
    "# 逻辑判断中 None 表示 False\n",
    "√ 逻辑判断中的 True 与 False <br>\n",
    "进行逻辑判断（比如 if ）时，Python当中等于False的值并不只有False一个，它也有一套规则。<br>\n",
    "对于基本类型来说，基本上每个类型都存在一个值会被判定为False。大致是这样：\n",
    "\n",
    ">1. 布尔型，False表示False，其他为True\n",
    "2. 整数和浮点数，0表示False，其他为True\n",
    "3. 字符串和类字符串类型（包括bytes和unicode），空字符串表示False，其他为True\n",
    "4. 序列类型（包括tuple，list，dict，set等），空表示False，非空表示True\n",
    "5. None 永远表示 False\n",
    "\n",
    "参考 [5.1. Truth Value Testing](https://docs.python.org/2/library/stdtypes.html)"
   ]
  },
  {
   "cell_type": "markdown",
   "metadata": {},
   "source": [
    "**例子**"
   ]
  },
  {
   "cell_type": "code",
   "execution_count": 5,
   "metadata": {},
   "outputs": [
    {
     "name": "stdout",
     "output_type": "stream",
     "text": [
      "1\n",
      "2\n",
      "3\n"
     ]
    }
   ],
   "source": [
    "class ListNode(object):\n",
    "    def __init__(self, x):\n",
    "        self.val = x\n",
    "        self.next = None\n",
    "\n",
    "L = ListNode(1)\n",
    "L.next = ListNode(2)\n",
    "L.next.next = ListNode(3)\n",
    "\n",
    "head = L\n",
    "while head:  # 进行逻辑判断，None 表示 False\n",
    "    print(head.val)\n",
    "    head = head.next"
   ]
  },
  {
   "cell_type": "markdown",
   "metadata": {},
   "source": [
    "# 逻辑运算符 not \n",
    "逻辑运算符包括 \n",
    "* and\n",
    "* or\n",
    "* not"
   ]
  },
  {
   "cell_type": "code",
   "execution_count": 6,
   "metadata": {},
   "outputs": [
    {
     "data": {
      "text/plain": [
       "True"
      ]
     },
     "execution_count": 6,
     "metadata": {},
     "output_type": "execute_result"
    }
   ],
   "source": [
    "not None"
   ]
  },
  {
   "cell_type": "markdown",
   "metadata": {},
   "source": [
    "# python中 and 和 or 的特殊用法"
   ]
  },
  {
   "cell_type": "markdown",
   "metadata": {},
   "source": [
    "<div style=\"float:right;border:solid 1px 000;margin:2px;\"><img src=\"https://pic2.zhimg.com/80/2ad78e898c829dff04211ba9a86732a7_hd.jpg\"></div>\n",
    "\n",
    "参考[官方文档](https://docs.python.org/2/library/stdtypes.html)\n"
   ]
  },
  {
   "cell_type": "code",
   "execution_count": 7,
   "metadata": {},
   "outputs": [
    {
     "data": {
      "text/plain": [
       "'b'"
      ]
     },
     "execution_count": 7,
     "metadata": {},
     "output_type": "execute_result"
    }
   ],
   "source": [
    "'a' and 'b'"
   ]
  },
  {
   "cell_type": "code",
   "execution_count": 8,
   "metadata": {},
   "outputs": [
    {
     "data": {
      "text/plain": [
       "''"
      ]
     },
     "execution_count": 8,
     "metadata": {},
     "output_type": "execute_result"
    }
   ],
   "source": [
    "''  and 'b'"
   ]
  },
  {
   "cell_type": "code",
   "execution_count": 9,
   "metadata": {},
   "outputs": [
    {
     "data": {
      "text/plain": [
       "'a'"
      ]
     },
     "execution_count": 9,
     "metadata": {},
     "output_type": "execute_result"
    }
   ],
   "source": [
    "'a' or  'b'"
   ]
  },
  {
   "cell_type": "code",
   "execution_count": 10,
   "metadata": {},
   "outputs": [
    {
     "data": {
      "text/plain": [
       "'b'"
      ]
     },
     "execution_count": 10,
     "metadata": {},
     "output_type": "execute_result"
    }
   ],
   "source": [
    "''  or  'b'"
   ]
  },
  {
   "cell_type": "code",
   "execution_count": 3,
   "metadata": {},
   "outputs": [
    {
     "name": "stdout",
     "output_type": "stream",
     "text": [
      "5\n",
      "10\n",
      "5\n",
      "5\n",
      "5\n",
      "5\n"
     ]
    }
   ],
   "source": [
    "print(0 or 5)\n",
    "print(10 or 5)\n",
    "\n",
    "print([] or 5)\n",
    "print({} or 5)\n",
    "print(() or 5)\n",
    "print(set() or 5)"
   ]
  },
  {
   "cell_type": "code",
   "execution_count": 5,
   "metadata": {},
   "outputs": [
    {
     "name": "stdout",
     "output_type": "stream",
     "text": [
      "['1', '2', 'Fizz', '4', 'Buzz', 'Fizz', '7', '8', 'Fizz', 'Buzz', '11', 'Fizz', '13', '14', 'FizzBuzz']\n"
     ]
    }
   ],
   "source": [
    "print([('Fizz' * (not i % 3) + 'Buzz' * (not i % 5) ) or str(i)\n",
    "       for i in range(1, 16)])"
   ]
  },
  {
   "cell_type": "code",
   "execution_count": 11,
   "metadata": {},
   "outputs": [
    {
     "name": "stdout",
     "output_type": "stream",
     "text": [
      "1 -> 3 -> 4 -> None\n",
      "3 -> 4 -> None\n"
     ]
    }
   ],
   "source": [
    "class ListNode(object):\n",
    "    def __init__(self, x):\n",
    "        self.val = x\n",
    "        self.next = None\n",
    "\n",
    "    def __repr__(self):\n",
    "        if self:\n",
    "            return \"{} -> {}\".format(self.val, self.next)\n",
    "        \n",
    "l = ListNode(1)\n",
    "l.next = ListNode(3)\n",
    "l.next.next = ListNode(4)\n",
    "\n",
    "print(l)\n",
    "print(l.next or l.next.next.next)"
   ]
  },
  {
   "cell_type": "markdown",
   "metadata": {},
   "source": [
    "# 嵌套元素的访问"
   ]
  },
  {
   "cell_type": "code",
   "execution_count": 5,
   "metadata": {},
   "outputs": [
    {
     "name": "stdout",
     "output_type": "stream",
     "text": [
      "9\n",
      "60\n"
     ]
    }
   ],
   "source": [
    "x = [1,3,[{2:59,30:60},5,(3,9)]]\n",
    "print(x[2][2][1])\n",
    "print(x[2][0][30])"
   ]
  },
  {
   "cell_type": "code",
   "execution_count": 8,
   "metadata": {},
   "outputs": [
    {
     "name": "stdout",
     "output_type": "stream",
     "text": [
      "4\n"
     ]
    }
   ],
   "source": [
    "from collections import deque\n",
    "x = [2,[(3,4),8]]\n",
    "d = deque()\n",
    "d.append(x)\n",
    "# print(d)\n",
    "print(d.popleft()[1][0][1])"
   ]
  },
  {
   "cell_type": "markdown",
   "metadata": {},
   "source": [
    "# Python3对字典操作时遇到错误：dictionary changed size during iteration"
   ]
  },
  {
   "cell_type": "code",
   "execution_count": 2,
   "metadata": {},
   "outputs": [
    {
     "ename": "RuntimeError",
     "evalue": "dictionary changed size during iteration",
     "output_type": "error",
     "traceback": [
      "\u001b[0;31m---------------------------------------------------------------------------\u001b[0m",
      "\u001b[0;31mRuntimeError\u001b[0m                              Traceback (most recent call last)",
      "\u001b[0;32m<ipython-input-2-843268e90452>\u001b[0m in \u001b[0;36m<module>\u001b[0;34m()\u001b[0m\n\u001b[1;32m      1\u001b[0m \u001b[0;31m# 错误的代码：\u001b[0m\u001b[0;34m\u001b[0m\u001b[0;34m\u001b[0m\u001b[0m\n\u001b[1;32m      2\u001b[0m \u001b[0ma\u001b[0m\u001b[0;34m=\u001b[0m\u001b[0;34m{\u001b[0m\u001b[0;34m'a'\u001b[0m\u001b[0;34m:\u001b[0m\u001b[0;36m1\u001b[0m\u001b[0;34m,\u001b[0m \u001b[0;34m'b'\u001b[0m\u001b[0;34m:\u001b[0m\u001b[0;36m0\u001b[0m\u001b[0;34m,\u001b[0m \u001b[0;34m'c'\u001b[0m\u001b[0;34m:\u001b[0m\u001b[0;36m1\u001b[0m\u001b[0;34m,\u001b[0m \u001b[0;34m'd'\u001b[0m\u001b[0;34m:\u001b[0m\u001b[0;36m0\u001b[0m\u001b[0;34m}\u001b[0m\u001b[0;34m\u001b[0m\u001b[0m\n\u001b[0;32m----> 3\u001b[0;31m \u001b[0;32mfor\u001b[0m \u001b[0mkey\u001b[0m \u001b[0;32min\u001b[0m \u001b[0ma\u001b[0m\u001b[0;34m.\u001b[0m\u001b[0mkeys\u001b[0m\u001b[0;34m(\u001b[0m\u001b[0;34m)\u001b[0m\u001b[0;34m:\u001b[0m\u001b[0;34m\u001b[0m\u001b[0m\n\u001b[0m\u001b[1;32m      4\u001b[0m     \u001b[0;32mdel\u001b[0m \u001b[0ma\u001b[0m\u001b[0;34m[\u001b[0m\u001b[0mkey\u001b[0m\u001b[0;34m]\u001b[0m\u001b[0;34m\u001b[0m\u001b[0m\n",
      "\u001b[0;31mRuntimeError\u001b[0m: dictionary changed size during iteration"
     ]
    }
   ],
   "source": [
    "# 错误的代码：\n",
    "a={'a':1, 'b':0, 'c':1, 'd':0}  \n",
    "for key in a.keys():  \n",
    "    del a[key]  "
   ]
  },
  {
   "cell_type": "markdown",
   "metadata": {},
   "source": [
    "参考资料：\n",
    ">[https://www.python.org/dev/peps/pep-0234/](https://www.python.org/dev/peps/pep-0234/)  \n",
    "[Python3对字典操作时遇到错误](https://blog.csdn.net/zhihaoma/article/details/51265168)\n",
    "\n",
    "大概是说字典在遍历时不能进行修改，建议转成列表或集合处理。  \n",
    "所以，正确的代码如下："
   ]
  },
  {
   "cell_type": "code",
   "execution_count": 3,
   "metadata": {},
   "outputs": [],
   "source": [
    "a={'a':1, 'b':0, 'c':1, 'd':0}  \n",
    "for key in list(a.keys()):  \n",
    "    del a[key]  "
   ]
  },
  {
   "cell_type": "markdown",
   "metadata": {},
   "source": [
    "# 位运算符 ~"
   ]
  },
  {
   "cell_type": "code",
   "execution_count": 4,
   "metadata": {},
   "outputs": [
    {
     "name": "stdout",
     "output_type": "stream",
     "text": [
      "[-1, -2, -3, -4, -5, -6]\n",
      "[0, 1, 2, 3, 4, 5]\n"
     ]
    }
   ],
   "source": [
    "print([~0, ~1, ~2, ~3, ~4, ~5])\n",
    "print([~-1, ~-2, ~-3, ~-4, ~-5, ~-6])"
   ]
  },
  {
   "cell_type": "code",
   "execution_count": 5,
   "metadata": {},
   "outputs": [
    {
     "data": {
      "text/plain": [
       "-2"
      ]
     },
     "execution_count": 5,
     "metadata": {},
     "output_type": "execute_result"
    }
   ],
   "source": [
    "~True\n",
    "\n",
    "# 因为，True的默认值为1\n",
    "# 把True取反，也就是把1取反\n",
    "# 因为python默认的是有符号表示数\n",
    "# 1的二进制表示就是00000001\n",
    "# 各位取反之后就是11111110\n",
    "# 可见，取反之后，符号位从0变成了1，成了一个负数\n",
    "# 而已1作为符号位开头，计算机会将其识别为补码\n",
    "# 因为负数在机器中是以补码表示、补码转换真值的方式为补码的数值位，\n",
    "# 也就是除符号位之外的各位取反后加1。11111110除符号位取反后的值为10000001，再加1，\n",
    "# 便得到10000010，转换成十进制，便是-2\n",
    "\n",
    "\n"
   ]
  },
  {
   "cell_type": "markdown",
   "metadata": {},
   "source": [
    "[Python ' ~ ' (取反) 操作符解释](https://blog.csdn.net/u012559520/article/details/65630436)"
   ]
  },
  {
   "cell_type": "code",
   "execution_count": 15,
   "metadata": {},
   "outputs": [
    {
     "name": "stdout",
     "output_type": "stream",
     "text": [
      "[5, 4, 3, 2, 1]\n"
     ]
    }
   ],
   "source": [
    "\n",
    "#    start                                         end  \n",
    "#    x[0],   x[1],   x[2], ... ,  x[-3],  x[-2],  x[-1]  \n",
    "#    x[~-1]  x[~-2], x[~-3], .. , x[~2],  x[~1],  x[~0]\n",
    "\n",
    "# 将 [1,2,3,4,5] 变成 [5,4,3,2,1]\n",
    "\n",
    "x = [1,2,3,4,5]\n",
    "for i in range(int((len(x)+1)/2)):\n",
    "    x[i], x[~i] = x[~i], x[i]\n",
    "\n",
    "\n",
    "print(x)\n",
    "\n"
   ]
  },
  {
   "cell_type": "markdown",
   "metadata": {},
   "source": [
    "# Python可以在同一行中使用多条语句"
   ]
  },
  {
   "cell_type": "code",
   "execution_count": 1,
   "metadata": {},
   "outputs": [
    {
     "name": "stdout",
     "output_type": "stream",
     "text": [
      "这是一句话。\n"
     ]
    }
   ],
   "source": [
    "# Python可以在同一行中使用多条语句，语句之间使用分号(;)分割，\n",
    "# 以下是一个简单的实例：\n",
    "\n",
    "x = '这是'; y = '一句话。'; print( x+y )"
   ]
  },
  {
   "cell_type": "markdown",
   "metadata": {},
   "source": [
    "# c = a if a>b else b"
   ]
  },
  {
   "cell_type": "code",
   "execution_count": 2,
   "metadata": {},
   "outputs": [
    {
     "name": "stdout",
     "output_type": "stream",
     "text": [
      "2\n"
     ]
    }
   ],
   "source": [
    "a, b, c = 1, 2, 3\n",
    "if a>b:\n",
    "\n",
    "    c = a\n",
    "\n",
    "else:\n",
    "\n",
    "    c = b\n",
    "    \n",
    "print(c)"
   ]
  },
  {
   "cell_type": "code",
   "execution_count": 4,
   "metadata": {},
   "outputs": [
    {
     "name": "stdout",
     "output_type": "stream",
     "text": [
      "2\n"
     ]
    }
   ],
   "source": [
    "c = a if a>b else b ; print(c)"
   ]
  },
  {
   "cell_type": "code",
   "execution_count": 5,
   "metadata": {},
   "outputs": [
    {
     "name": "stdout",
     "output_type": "stream",
     "text": [
      "2\n"
     ]
    }
   ],
   "source": [
    "c = [b,a][a>b]; print(c)"
   ]
  },
  {
   "cell_type": "markdown",
   "metadata": {},
   "source": [
    "# >>= 与 <<=\n",
    "解释：>> 和 << 都是位运算，对二进制数进行移位操作。\n",
    "<< 是左移，**末位补0**，类比十进制数在末尾添0相当于原数乘以10，x<<1是将x的二进制表示左移一位，相当于原数x乘2。  \n",
    "比如整数4在二进制下是100，4<<1左移1位变成1000(二进制)，结果是8。  \n",
    "而 >>是右移，右移1位相当于除以2。  \n",
    "而>>=和<<=，就是对变量进行位运算移位之后的结果再赋值给原来的变量，可以类比赋值运算符 += 和 -= 可以理解。  \n",
    "比如x >>= 2， 就是把变量x右移2位，再保留x操作后的值。"
   ]
  },
  {
   "cell_type": "code",
   "execution_count": 7,
   "metadata": {},
   "outputs": [
    {
     "name": "stdout",
     "output_type": "stream",
     "text": [
      "50\n",
      "200\n",
      "25\n",
      "400\n"
     ]
    }
   ],
   "source": [
    "print(100>>1)\n",
    "print(100<<1)\n",
    "print(100>>2)\n",
    "print(100<<2)"
   ]
  },
  {
   "cell_type": "code",
   "execution_count": 8,
   "metadata": {},
   "outputs": [
    {
     "name": "stdout",
     "output_type": "stream",
     "text": [
      "400\n"
     ]
    }
   ],
   "source": [
    "x = 100\n",
    "x <<= 2; print(x)\n"
   ]
  },
  {
   "cell_type": "code",
   "execution_count": 20,
   "metadata": {},
   "outputs": [
    {
     "name": "stdout",
     "output_type": "stream",
     "text": [
      "1001110\n",
      "0\n",
      "1001111\n",
      "1\n",
      "111000\n",
      "1\n"
     ]
    }
   ],
   "source": [
    "# 取 x 的二进制数中某一位，使用位运算符 & (按位与) \n",
    "\n",
    "# 取 x 的二进制数的最后1位\n",
    "x = 78; print(bin(x)[2:])\n",
    "print( x&1)\n",
    "\n",
    "# 取 x 的二进制数的最后1位\n",
    "x = 79; print(bin(x)[2:])\n",
    "print( x&1)\n",
    "\n",
    "# 取 x 的二进制数的倒数第4位\n",
    "x = 56; print(bin(x)[2:])\n",
    "print( (x>>3)&1 )\n"
   ]
  },
  {
   "cell_type": "markdown",
   "metadata": {},
   "source": [
    "# a ^ b ^ a\n",
    "\n",
    "交换律 与 结合律  \n",
    "1）a ^ a = 0  \n",
    "2）a ^ b ^ a = b ^ a ^ a = b ^ (a ^ a) = b ^ 0 = b\n"
   ]
  },
  {
   "cell_type": "code",
   "execution_count": 25,
   "metadata": {},
   "outputs": [
    {
     "name": "stdout",
     "output_type": "stream",
     "text": [
      "0\n",
      "0\n",
      "78\n"
     ]
    }
   ],
   "source": [
    "a = 25; b = 78\n",
    "\n",
    "print(a^b^a^b)\n",
    "print(a^a^b^b)\n",
    "print(a^a^b)"
   ]
  },
  {
   "cell_type": "code",
   "execution_count": null,
   "metadata": {},
   "outputs": [],
   "source": []
  }
 ],
 "metadata": {
  "kernelspec": {
   "display_name": "Python 3",
   "language": "python",
   "name": "python3"
  },
  "language_info": {
   "codemirror_mode": {
    "name": "ipython",
    "version": 3
   },
   "file_extension": ".py",
   "mimetype": "text/x-python",
   "name": "python",
   "nbconvert_exporter": "python",
   "pygments_lexer": "ipython3",
   "version": "3.6.4"
  },
  "toc": {
   "base_numbering": 1,
   "nav_menu": {},
   "number_sections": true,
   "sideBar": true,
   "skip_h1_title": false,
   "title_cell": "Table of Contents",
   "title_sidebar": "Contents",
   "toc_cell": false,
   "toc_position": {},
   "toc_section_display": true,
   "toc_window_display": true
  }
 },
 "nbformat": 4,
 "nbformat_minor": 2
}
