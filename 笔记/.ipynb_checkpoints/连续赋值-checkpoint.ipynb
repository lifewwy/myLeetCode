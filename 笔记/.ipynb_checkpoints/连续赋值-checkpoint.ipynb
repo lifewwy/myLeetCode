{
 "cells": [
  {
   "cell_type": "markdown",
   "metadata": {},
   "source": [
    "# python 多元赋值的原理\n",
    "\n",
    "python 的多元赋值原理是tuple的元组封装 (tuple packing) 和 序列拆封（sequence unpacking）"
   ]
  },
  {
   "cell_type": "code",
   "execution_count": 1,
   "metadata": {},
   "outputs": [],
   "source": [
    "t = 12345, 54321, 'hello!'"
   ]
  },
  {
   "cell_type": "markdown",
   "metadata": {},
   "source": [
    "这是**元组封装**(tuple packing) 的例子，将多个值放进tuple里。"
   ]
  },
  {
   "cell_type": "markdown",
   "metadata": {},
   "source": [
    "元组封装 (tuple packing) 的逆操作就是**序列拆封**（sequence unpacking）。这个调用等号右边可以是任何线性序列，序列拆封要求左侧的变量数目与序列的元素个数相同。"
   ]
  },
  {
   "cell_type": "code",
   "execution_count": 2,
   "metadata": {},
   "outputs": [],
   "source": [
    "x, y, z = t"
   ]
  },
  {
   "cell_type": "markdown",
   "metadata": {},
   "source": [
    "多元赋值变量交换的例子："
   ]
  },
  {
   "cell_type": "code",
   "execution_count": 3,
   "metadata": {},
   "outputs": [
    {
     "name": "stdout",
     "output_type": "stream",
     "text": [
      "3 4\n"
     ]
    }
   ],
   "source": [
    "a = 1 ; b = 3\n",
    "a, b = b, a+b\n",
    "\n",
    "print(a,b)"
   ]
  },
  {
   "cell_type": "markdown",
   "metadata": {},
   "source": [
    "就是将`(b, a+b)`打包成元祖，再序列的分给`(a, b)`这个序列。"
   ]
  },
  {
   "cell_type": "markdown",
   "metadata": {},
   "source": [
    "官方文档：\n",
    "\n",
    ">[Data Structures](https://docs.python.org/3/tutorial/datastructures.html#tuples-and-sequences)\n",
    "\n",
    ">[Python tutorial 2.7.13 2.7.13 documentation](http://www.pythondoc.com/pythontutorial27/datastructures.html#tut-tuples)\n"
   ]
  },
  {
   "cell_type": "markdown",
   "metadata": {},
   "source": [
    "----"
   ]
  },
  {
   "cell_type": "code",
   "execution_count": 4,
   "metadata": {},
   "outputs": [
    {
     "name": "stdout",
     "output_type": "stream",
     "text": [
      "[4, 5, 2]\n"
     ]
    }
   ],
   "source": [
    "a = [1, 2, 3]\n",
    "b = [4, 5, 6]\n",
    "\n",
    "a, a[2]  = b, a[1]\n",
    "\n",
    "print(a)"
   ]
  },
  {
   "cell_type": "markdown",
   "metadata": {},
   "source": [
    "**上面的程序等价于：**"
   ]
  },
  {
   "cell_type": "code",
   "execution_count": 5,
   "metadata": {},
   "outputs": [
    {
     "name": "stdout",
     "output_type": "stream",
     "text": [
      "[4, 5, 2]\n"
     ]
    }
   ],
   "source": [
    "a = [1, 2, 3]\n",
    "b = [4, 5, 6]\n",
    "\n",
    "a_dummy = a\n",
    "\n",
    "# 然后再按顺序赋值\n",
    "a = b\n",
    "a[2] = a_dummy[1]\n",
    "\n",
    "\n",
    "print(a)"
   ]
  },
  {
   "cell_type": "markdown",
   "metadata": {},
   "source": [
    "---\n",
    "**再看下面的例子**"
   ]
  },
  {
   "cell_type": "code",
   "execution_count": 6,
   "metadata": {},
   "outputs": [],
   "source": [
    "def println(l, N = 10):\n",
    "    print(l.val, end='\\t')\n",
    "    cursor = l.next\n",
    "    nCount = 1\n",
    "    while cursor != None and nCount < N:\n",
    "        nCount += 1\n",
    "        print(cursor.val, end='\\t')\n",
    "        cursor = cursor.next\n",
    "    print()\n",
    "\n",
    "# Definition for singly-linked list.\n",
    "class ListNode(object):\n",
    "    def __init__(self, x):\n",
    "        self.val = x\n",
    "        self.next = None"
   ]
  },
  {
   "cell_type": "code",
   "execution_count": 7,
   "metadata": {},
   "outputs": [
    {
     "name": "stdout",
     "output_type": "stream",
     "text": [
      "1\t2\t3\t\n",
      "2\t3\t\n"
     ]
    }
   ],
   "source": [
    "head = ListNode(1)\n",
    "head.next = ListNode(2)\n",
    "head.next.next = ListNode(3)\n",
    "\n",
    "println(head)\n",
    "\n",
    "head.next, head = head, head.next\n",
    "\n",
    "# # -----------  等价于 ----------\n",
    "# dummy = head.next\n",
    "\n",
    "# # 然后再按顺序赋值\n",
    "# head.next = head\n",
    "# head = dummy\n",
    "# # -----------------------------\n",
    "\n",
    "println(head)"
   ]
  },
  {
   "cell_type": "code",
   "execution_count": 8,
   "metadata": {},
   "outputs": [
    {
     "name": "stdout",
     "output_type": "stream",
     "text": [
      "1\t2\t3\t\n",
      "2\t1\t2\t1\t2\t1\t2\t1\t2\t1\t\n"
     ]
    }
   ],
   "source": [
    "head = ListNode(1)\n",
    "head.next = ListNode(2)\n",
    "head.next.next = ListNode(3)\n",
    "\n",
    "println(head)\n",
    "\n",
    "# 顺序交换，结果就变了。\n",
    "head, head.next = head.next, head\n",
    "\n",
    "# # -----------  等价于 ----------\n",
    "# dummy = head\n",
    "\n",
    "# # 然后再按顺序赋值\n",
    "# head = head.next\n",
    "# head.next = dummy\n",
    "# # -----------------------------\n",
    "\n",
    "println(head)"
   ]
  },
  {
   "cell_type": "markdown",
   "metadata": {},
   "source": [
    "# 例子"
   ]
  },
  {
   "cell_type": "markdown",
   "metadata": {},
   "source": [
    "再举一个Leetcode里链表的例子理解就更深了。"
   ]
  },
  {
   "cell_type": "markdown",
   "metadata": {},
   "source": [
    "`假如要对一个链表进行翻转，就比如把 1—>2->3->4 转化为 4->3->2->1 `"
   ]
  },
  {
   "cell_type": "markdown",
   "metadata": {},
   "source": [
    "我们可以用很简单的三行代码完成这个过程："
   ]
  },
  {
   "cell_type": "code",
   "execution_count": 9,
   "metadata": {},
   "outputs": [
    {
     "name": "stdout",
     "output_type": "stream",
     "text": [
      "4\t3\t2\t1\t\n"
     ]
    }
   ],
   "source": [
    "def reverseList(head):\n",
    "    L = ListNode(float(\"-inf\"))\n",
    "    while head:\n",
    "        L.next, head.next, head = head, L.next, head.next\n",
    "        # 注意，换成下面这句就不对了。\n",
    "        # head, L.next, head.next = head.next, head, L.next\n",
    "\n",
    "    return L.next\n",
    "\n",
    "head = ListNode(1)\n",
    "head.next = ListNode(2)\n",
    "head.next.next = ListNode(3)\n",
    "head.next.next.next = ListNode(4)\n",
    "\n",
    "println(reverseList(head))\n"
   ]
  },
  {
   "cell_type": "markdown",
   "metadata": {},
   "source": [
    ">**注意**\n",
    "```python\n",
    "L.next, head.next, head = head, L.next, head.next\n",
    "```\n",
    "不等价于\n",
    "```python\n",
    "L.next = head\n",
    "head.next = L.next\n",
    "head = head.next\n",
    "```\n",
    "而是等价于\n",
    "```python\n",
    "dummy1 = L.next; dummy2 = head.next \n",
    "# 然后再按顺序赋值\n",
    "L.next = head\n",
    "head.next = dummy1\n",
    "head = dummy2\n",
    "```\n"
   ]
  },
  {
   "cell_type": "markdown",
   "metadata": {},
   "source": [
    "----\n",
    "这里的 L 是指向一个新建的结点，因为 python 没有指针的概念，所以用一个额外的结点来代替头指针，这里的核心代码就是中间那一行三个变量的连续赋值，如果单独一句句来理解的话，最后肯定是想不通的。\n",
    "\n",
    "在这里，<br>\n",
    "head 结点是链表串’1->2->3->4’的头结点，先用新的 L 结点的 next 指针指向 head 的第一个结点‘1’，<br>\n",
    "之后将 L.next(第一次也就是空)赋给了 head 的 next 指针，<br>\n",
    "之后再把 head 的 next 指针（注意，这里的next指针还是指向‘2’的，而不是空）赋给 head，<br>\n",
    "\n",
    "相当于 next 向前移一位，这一步相当于一个串变成了两个："
   ]
  },
  {
   "cell_type": "markdown",
   "metadata": {},
   "source": [
    "`L：-inf -> 1\n",
    "head：2 -> 3 -> 4 -> 5`"
   ]
  },
  {
   "cell_type": "markdown",
   "metadata": {},
   "source": [
    "\n",
    "\n",
    "\n",
    "\n",
    "\n",
    "\n",
    "\n",
    "\n",
    "\n",
    "\n",
    "\n",
    "\n",
    "\n",
    "\n",
    "\n",
    "\n",
    "\n",
    "\n",
    "\n",
    "\n",
    "\n",
    "\n",
    "\n",
    "\n",
    "\n",
    "\n",
    "\n",
    "\n",
    "\n",
    "\n",
    "\n",
    "\n",
    "\n",
    "\n",
    "\n",
    "\n",
    "\n",
    "\n",
    "\n"
   ]
  }
 ],
 "metadata": {
  "kernelspec": {
   "display_name": "Python 3",
   "language": "python",
   "name": "python3"
  },
  "language_info": {
   "codemirror_mode": {
    "name": "ipython",
    "version": 3
   },
   "file_extension": ".py",
   "mimetype": "text/x-python",
   "name": "python",
   "nbconvert_exporter": "python",
   "pygments_lexer": "ipython3",
   "version": "3.6.4"
  },
  "toc": {
   "base_numbering": 1,
   "nav_menu": {},
   "number_sections": true,
   "sideBar": true,
   "skip_h1_title": false,
   "title_cell": "Table of Contents",
   "title_sidebar": "Contents",
   "toc_cell": false,
   "toc_position": {},
   "toc_section_display": true,
   "toc_window_display": true
  }
 },
 "nbformat": 4,
 "nbformat_minor": 2
}
