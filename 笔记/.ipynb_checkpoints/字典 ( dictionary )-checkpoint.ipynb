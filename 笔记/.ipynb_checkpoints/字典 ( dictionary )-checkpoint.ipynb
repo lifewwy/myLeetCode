{
 "cells": [
  {
   "cell_type": "markdown",
   "metadata": {},
   "source": [
    "## 基本形式\n",
    ">字典的每个键值对用冒号(:)分割，每个对之间用逗号(,)分割，整个字典包括在花括号({ })中 <br>\n",
    "d = { key1 : value1, key2 : value2 }"
   ]
  },
  {
   "cell_type": "code",
   "execution_count": 4,
   "metadata": {},
   "outputs": [
    {
     "data": {
      "text/plain": [
       "{'a': 10, 'b': 'hello', 'c': 5}"
      ]
     },
     "execution_count": 4,
     "metadata": {},
     "output_type": "execute_result"
    }
   ],
   "source": [
    "{'a':10, 'b':'hello', 'c':5}"
   ]
  },
  {
   "cell_type": "markdown",
   "metadata": {},
   "source": [
    ">键必须是唯一的，但值则不必。<br>\n",
    "键必须是不可变的（如字符串，数字或元组），但值可以取任何数据类型。"
   ]
  },
  {
   "cell_type": "code",
   "execution_count": 5,
   "metadata": {},
   "outputs": [
    {
     "name": "stdout",
     "output_type": "stream",
     "text": [
      "dict['Name']:  小菜鸟\n"
     ]
    }
   ],
   "source": [
    "# 1）不允许同一个键出现两次。创建时如果同一个键被赋值两次，后一个值会被记住\n",
    "dict = {'Name': 'Runoob', 'Age': 7, 'Name': '小菜鸟'}\n",
    "print (\"dict['Name']: \", dict['Name'])"
   ]
  },
  {
   "cell_type": "code",
   "execution_count": 6,
   "metadata": {},
   "outputs": [
    {
     "name": "stdout",
     "output_type": "stream",
     "text": [
      "Runoob\n",
      "78\n",
      "99\n"
     ]
    }
   ],
   "source": [
    "# 2）键必须不可变，所以可以用数字，字符串或元组充当\n",
    "dict1 = {(1,2,3): 'Runoob', 25.6: 78, 'ThisIsAKey':99}     \n",
    "\n",
    "# 通过 键 查询 值，dict1[键]\n",
    "print(dict1[(1,2,3)])\n",
    "print(dict1[25.6]) \n",
    "print(dict1['ThisIsAKey']) "
   ]
  },
  {
   "cell_type": "code",
   "execution_count": 7,
   "metadata": {},
   "outputs": [
    {
     "name": "stdout",
     "output_type": "stream",
     "text": [
      "[1, 2, 3]\n"
     ]
    }
   ],
   "source": [
    "dict1 = { 'abc': 123, 98.6: [1,2,3] }  # 键必须是不可变的，如字符串，数字或元组。\n",
    "print( dict1[98.6] )                   # 数字 98.6 是键"
   ]
  },
  {
   "cell_type": "markdown",
   "metadata": {},
   "source": [
    "## 创建字典的其他形式"
   ]
  },
  {
   "cell_type": "code",
   "execution_count": 8,
   "metadata": {},
   "outputs": [
    {
     "data": {
      "text/plain": [
       "{2: 104, 4: 116, 6: 136}"
      ]
     },
     "execution_count": 8,
     "metadata": {},
     "output_type": "execute_result"
    }
   ],
   "source": [
    "# 字典推导式\n",
    "{x : x**2+100 for x in (2, 4, 6)} "
   ]
  },
  {
   "cell_type": "code",
   "execution_count": 24,
   "metadata": {},
   "outputs": [
    {
     "name": "stdout",
     "output_type": "stream",
     "text": [
      "{'name': None, 'age': None, 'sex': None}\n",
      "{'name': 10, 'age': 10, 'sex': 10}\n"
     ]
    }
   ],
   "source": [
    "# Python 字典 fromkeys() 函数用于创建一个新字典，以序列seq中元素做字典的键，value为字典所有键对应的初始值。\n",
    "# dict.fromkeys(seqseq [, value])\n",
    "# 参数\n",
    "# seq   -- 字典键值列表。\n",
    "# value -- 可选参数, 设置键序列（seq）的值。\n",
    "\n",
    "if 'dict' in vars(): del dict\n",
    "    \n",
    "# seq = ('name', 'age', 'sex')\n",
    "# seq = ['name', 'age', 'sex']\n",
    "seq = {'name', 'age', 'sex'}\n",
    "\n",
    "dict1 = dict.fromkeys(seq)\n",
    "print (dict1)\n",
    "\n",
    "dict1 = dict.fromkeys(seq, 10)\n",
    "print (dict1)"
   ]
  },
  {
   "cell_type": "code",
   "execution_count": 10,
   "metadata": {},
   "outputs": [
    {
     "data": {
      "text/plain": [
       "{'guido': 4127, 'jack': 4098, 'sape': 4139}"
      ]
     },
     "execution_count": 10,
     "metadata": {},
     "output_type": "execute_result"
    }
   ],
   "source": [
    "if 'dict' in vars():\n",
    "    del dict\n",
    "    \n",
    "# 如果关键字只是简单的字符串，使用关键字参数指定键值对有时候更方便：\n",
    "dict(sape=4139, guido=4127, jack=4098) "
   ]
  },
  {
   "cell_type": "code",
   "execution_count": 11,
   "metadata": {},
   "outputs": [
    {
     "data": {
      "text/plain": [
       "{'guido': 4127, 'jack': 4098, 'sape': 4139}"
      ]
     },
     "execution_count": 11,
     "metadata": {},
     "output_type": "execute_result"
    }
   ],
   "source": [
    "# 构造函数 dict() 直接从键值对元组列表中构建字典\n",
    "dict([('sape', 4139), ('guido', 4127), ('jack', 4098)])"
   ]
  },
  {
   "cell_type": "markdown",
   "metadata": {},
   "source": [
    "## 字典是无序的\n",
    "增删改查一般都通过```键```来进行。"
   ]
  },
  {
   "cell_type": "code",
   "execution_count": null,
   "metadata": {},
   "outputs": [],
   "source": []
  },
  {
   "cell_type": "markdown",
   "metadata": {},
   "source": [
    ">增 <br>\n",
    "删<br>\n",
    "改<br>\n",
    "查"
   ]
  },
  {
   "cell_type": "markdown",
   "metadata": {},
   "source": [
    "## 查"
   ]
  },
  {
   "cell_type": "code",
   "execution_count": 12,
   "metadata": {},
   "outputs": [
    {
     "data": {
      "text/plain": [
       "7"
      ]
     },
     "execution_count": 12,
     "metadata": {},
     "output_type": "execute_result"
    }
   ],
   "source": [
    "# dict[ key ] 由键查值\n",
    "dict = {'Name': 'Runoob', 'Age': 7, 'Class': 'First'}\n",
    "dict['Age']"
   ]
  },
  {
   "cell_type": "code",
   "execution_count": 9,
   "metadata": {},
   "outputs": [
    {
     "name": "stdout",
     "output_type": "stream",
     "text": [
      "['Name', 'Age', 'Class']\n",
      "True\n"
     ]
    }
   ],
   "source": [
    "# list( dict.keys() )   查询字典所有的键\n",
    "dict = {'Name': 'Runoob', 'Age': 7, 'Class': 'First'}\n",
    "print(list(dict.keys()))\n",
    "\n",
    "# dict.keys() 返回的是一个可迭代对象\n",
    "from    collections    import        Iterable\n",
    "print(isinstance(dict.keys(), Iterable))"
   ]
  },
  {
   "cell_type": "code",
   "execution_count": 8,
   "metadata": {},
   "outputs": [
    {
     "name": "stdout",
     "output_type": "stream",
     "text": [
      "['Runoob', 7, 'First']\n",
      "True\n"
     ]
    }
   ],
   "source": [
    "# list( dict.values() )  查询字典所有的值\n",
    "dict = {'Name': 'Runoob', 'Age': 7, 'Class': 'First'}\n",
    "print(list(dict.values()))\n",
    "\n",
    "# dict.values() 返回的是一个可迭代对象\n",
    "from    collections    import        Iterable\n",
    "print(isinstance(dict.values(), Iterable))"
   ]
  },
  {
   "cell_type": "code",
   "execution_count": 10,
   "metadata": {},
   "outputs": [
    {
     "data": {
      "text/plain": [
       "('Runoob', 78)"
      ]
     },
     "execution_count": 10,
     "metadata": {},
     "output_type": "execute_result"
    }
   ],
   "source": [
    "# dict.get(key, default=None)，由键查值\n",
    "# 参数\n",
    "# key -- 字典中要查找的键。\n",
    "# default -- 如果指定键不存在时，返回该默认值。\n",
    "\n",
    "dict.get('Name'), dict.get('Name123',78)\n",
    "\n",
    "# 得到的是一个元组"
   ]
  },
  {
   "cell_type": "code",
   "execution_count": 16,
   "metadata": {},
   "outputs": [
    {
     "name": "stdout",
     "output_type": "stream",
     "text": [
      "True\n",
      "True\n",
      "False\n"
     ]
    }
   ],
   "source": [
    "# 查询一个字典是否含有某个键\n",
    "dict = {'Name': 'Runoob', 'Age': 7, 25: 'First'}\n",
    "print( 'Age' in dict )\n",
    "print( 25 in dict )\n",
    "print( 7 in dict )"
   ]
  },
  {
   "cell_type": "markdown",
   "metadata": {},
   "source": [
    "## 增"
   ]
  },
  {
   "cell_type": "code",
   "execution_count": 17,
   "metadata": {},
   "outputs": [
    {
     "name": "stdout",
     "output_type": "stream",
     "text": [
      "{'Name': 'Runoob', 'Age': 7, 'Class': 'First', 'School': '菜鸟教程'}\n"
     ]
    }
   ],
   "source": [
    "dict = {'Name': 'Runoob', 'Age': 7, 'Class': 'First'}\n",
    "dict['School'] = \"菜鸟教程\"     # 增加一个键值对\n",
    "print(dict)"
   ]
  },
  {
   "cell_type": "markdown",
   "metadata": {},
   "source": [
    "## 删"
   ]
  },
  {
   "cell_type": "code",
   "execution_count": 18,
   "metadata": {
    "scrolled": true
   },
   "outputs": [
    {
     "name": "stdout",
     "output_type": "stream",
     "text": [
      "{'Age': 7, 'Class': 'First'}\n",
      "{}\n"
     ]
    }
   ],
   "source": [
    "dict1 = {'Name': 'Runoob', 'Age': 7, 'Class': 'First'}\n",
    "\n",
    "del dict1['Name'] # 删除键 'Name' 对应的键值对\n",
    "print(dict1)\n",
    "\n",
    "dict1.clear()     # 清空字典\n",
    "print(dict1)"
   ]
  },
  {
   "cell_type": "markdown",
   "metadata": {},
   "source": [
    "## 改"
   ]
  },
  {
   "cell_type": "code",
   "execution_count": 19,
   "metadata": {},
   "outputs": [
    {
     "data": {
      "text/plain": [
       "{'Age': 100, 'Class': 'First', 'Name': 'Runoob'}"
      ]
     },
     "execution_count": 19,
     "metadata": {},
     "output_type": "execute_result"
    }
   ],
   "source": [
    "dict1 = {'Name': 'Runoob', 'Age': 7, 'Class': 'First'}\n",
    "dict1['Age'] = 100\n",
    "dict1"
   ]
  },
  {
   "cell_type": "markdown",
   "metadata": {},
   "source": [
    "## 函数 & 方法"
   ]
  },
  {
   "cell_type": "code",
   "execution_count": 1,
   "metadata": {},
   "outputs": [
    {
     "name": "stdout",
     "output_type": "stream",
     "text": [
      "['clear', 'copy', 'fromkeys', 'get', 'items', 'keys', 'pop', 'popitem', 'setdefault', 'update', 'values']\n"
     ]
    }
   ],
   "source": [
    "print([i for i in dir(dict) if i[0]!='_'])"
   ]
  },
  {
   "cell_type": "code",
   "execution_count": 2,
   "metadata": {},
   "outputs": [
    {
     "name": "stdout",
     "output_type": "stream",
     "text": [
      "Help on method_descriptor:\n",
      "\n",
      "get(...)\n",
      "    D.get(k[,d]) -> D[k] if k in D, else d.  d defaults to None.\n",
      "\n"
     ]
    }
   ],
   "source": [
    "help(dict.get)"
   ]
  },
  {
   "cell_type": "code",
   "execution_count": 20,
   "metadata": {},
   "outputs": [
    {
     "name": "stdout",
     "output_type": "stream",
     "text": [
      "3\n",
      "{'Name': 'Runoob', 'Age': 7, 'Class': 'First'}\n"
     ]
    }
   ],
   "source": [
    "dict = {'Name': 'Runoob', 'Age': 7, 'Class': 'First'}\n",
    "print( len(dict) )\n",
    "print( str(dict) )           # 输出字典，以可打印的字符串表示。"
   ]
  },
  {
   "cell_type": "code",
   "execution_count": 12,
   "metadata": {},
   "outputs": [
    {
     "name": "stdout",
     "output_type": "stream",
     "text": [
      "[('Name', 'Runoob'), ('Age', 7), (25, 'First')]\n",
      "True\n"
     ]
    }
   ],
   "source": [
    "if 'list' in vars(): del list\n",
    "# items() 方法\n",
    "# Python 字典 items() 方法以列表返回可遍历的(键, 值) 元组数组。\n",
    "dict1 = {'Name': 'Runoob', 'Age': 7, 25: 'First'}\n",
    "a = list( dict1.items() )\n",
    "print( a )\n",
    "# print( type( a[0] ) )\n",
    "\n",
    "# dict.items() 返回的是一个可迭代对象\n",
    "from    collections    import        Iterable\n",
    "print(isinstance(dict1.items(), Iterable))"
   ]
  },
  {
   "cell_type": "code",
   "execution_count": 22,
   "metadata": {},
   "outputs": [
    {
     "name": "stdout",
     "output_type": "stream",
     "text": [
      "Name : Runoob\n",
      "Age : 7\n",
      "25 : First\n"
     ]
    }
   ],
   "source": [
    "# 在字典中遍历时，关键字和对应的值可以使用 items() 方法同时解读出来：\n",
    "dict1 = {'Name': 'Runoob', 'Age': 7, 25: 'First'}\n",
    "for k,v in dict1.items():\n",
    "    print(k,\":\",v)"
   ]
  },
  {
   "cell_type": "code",
   "execution_count": null,
   "metadata": {},
   "outputs": [],
   "source": []
  }
 ],
 "metadata": {
  "kernelspec": {
   "display_name": "Python 3",
   "language": "python",
   "name": "python3"
  },
  "language_info": {
   "codemirror_mode": {
    "name": "ipython",
    "version": 3
   },
   "file_extension": ".py",
   "mimetype": "text/x-python",
   "name": "python",
   "nbconvert_exporter": "python",
   "pygments_lexer": "ipython3",
   "version": "3.6.4"
  },
  "toc": {
   "base_numbering": 1,
   "nav_menu": {},
   "number_sections": true,
   "sideBar": true,
   "skip_h1_title": false,
   "title_cell": "Table of Contents",
   "title_sidebar": "Contents",
   "toc_cell": false,
   "toc_position": {
    "height": "calc(100% - 180px)",
    "left": "10px",
    "top": "150px",
    "width": "228px"
   },
   "toc_section_display": true,
   "toc_window_display": true
  }
 },
 "nbformat": 4,
 "nbformat_minor": 2
}
