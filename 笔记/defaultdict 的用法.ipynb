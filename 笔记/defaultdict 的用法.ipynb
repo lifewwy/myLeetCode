{
 "cells": [
  {
   "cell_type": "markdown",
   "metadata": {},
   "source": [
    "参考 \n",
    ">[8.3. collections](https://docs.python.org/3/library/collections.html)<br>\n",
    "[理解 Python 语言中的 defaultdict](http://kodango.com/understand-defaultdict-in-python)<br>\n",
    "[python中deque模块详解](https://blog.csdn.net/qins_superlover/article/details/44338415)"
   ]
  },
  {
   "cell_type": "markdown",
   "metadata": {},
   "source": [
    "## 默认值很方便"
   ]
  },
  {
   "cell_type": "markdown",
   "metadata": {},
   "source": [
    "众所周知，在Python中如果访问字典中不存在的键，会引发KeyError异常。但是有时候，字典中的每个键都存在默认值是非常方便的。"
   ]
  },
  {
   "cell_type": "code",
   "execution_count": 13,
   "metadata": {},
   "outputs": [
    {
     "name": "stdout",
     "output_type": "stream",
     "text": [
      "{'puppy': 5, 'kitten': 2, 'weasel': 1}\n",
      "{'puppy': 5, 'kitten': 2, 'weasel': 1}\n"
     ]
    }
   ],
   "source": [
    "strings = ('puppy', 'kitten', 'puppy', 'puppy',\n",
    "           'weasel', 'puppy', 'kitten', 'puppy')\n",
    "counts = {}\n",
    "\n",
    "# for kw in strings:\n",
    "#     counts[kw] += 1\n",
    "    \n",
    "# 该例子统计strings中某个单词出现的次数，并在counts字典中作记录。单词每出现一次，在counts相对应的键所存的值数字加1。\n",
    "# 但是事实上，运行这段代码会抛出KeyError异常，出现的时机是每个单词第一次统计的时候，因为Python的dict中不存在默认值\n",
    "\n",
    "# 除非改为下面的代码\n",
    "for kw in strings:\n",
    "    counts[kw] = counts.get(kw,0) + 1\n",
    "    \n",
    "print(counts)\n",
    "\n",
    "# 或改为下面的代码\n",
    "counts = {}\n",
    "\n",
    "for kw in strings:\n",
    "    counts[kw] = counts.setdefault(kw, 0) + 1  \n",
    "    \n",
    "print(counts)"
   ]
  },
  {
   "cell_type": "markdown",
   "metadata": {},
   "source": [
    "上面的方法虽然在一定程度上解决了dict中不存在默认值的问题，但是这时候我们会想，有没有一种字典它本身提供了默认值的功能呢？答案是肯定的，那就是collections.defaultdict。defaultdict类就好像是一个dict，但是它是使用一个```类型```来初始化的。"
   ]
  },
  {
   "cell_type": "code",
   "execution_count": 53,
   "metadata": {},
   "outputs": [
    {
     "name": "stdout",
     "output_type": "stream",
     "text": [
      "defaultdict(<class 'list'>, {'foo': []})\n",
      "defaultdict(<class 'list'>, {'foo': [], 'bar': ['quux', 'quux102', 500, 'a', 'b', 'c']})\n",
      "['quux', 'quux102', 500, 'a', 'b', 'c']\n"
     ]
    }
   ],
   "source": [
    "from collections import defaultdict\n",
    "d1 = defaultdict(list) # 使用一个类型来初始化\n",
    "d1['foo']  # 当所访问的键不存在的时候，可以实例化一个值作为默认值\n",
    "print(d1)  # defaultdict(list, {'foo': []})\n",
    "\n",
    "d1['bar'].append('quux')\n",
    "d1['bar'].append('quux102')\n",
    "d1['bar'].extend('abc')\n",
    "d1['bar'].insert(2,500)\n",
    "print(d1)\n",
    "print(d1['bar'])\n"
   ]
  },
  {
   "cell_type": "code",
   "execution_count": 46,
   "metadata": {},
   "outputs": [
    {
     "name": "stdout",
     "output_type": "stream",
     "text": [
      "defaultdict(<class 'set'>, {'foo': set()})\n",
      "defaultdict(<class 'set'>, {'foo': set(), 'bar': {'quux', 'quux11'}})\n",
      "{'quux', 'quux11'}\n"
     ]
    }
   ],
   "source": [
    "from collections import defaultdict\n",
    "d1 = defaultdict(set) # 使用一个类型来初始化\n",
    "d1['foo']  # 当所访问的键不存在的时候，可以实例化一个值作为默认值\n",
    "print(d1) \n",
    "\n",
    "d1['bar'].add('quux')\n",
    "d1['bar'].add('quux11')\n",
    "print(d1)\n",
    "print(d1['bar'])\n"
   ]
  },
  {
   "cell_type": "code",
   "execution_count": 36,
   "metadata": {},
   "outputs": [
    {
     "name": "stdout",
     "output_type": "stream",
     "text": [
      "defaultdict(<function zero at 0x10d25b048>, {'foo': 0})\n"
     ]
    }
   ],
   "source": [
    "# 该类除了接受类型名称作为初始化函数的参数之外，还可以使用任何不带参数的可调用函数，\n",
    "# 到时该函数的返回结果作为默认值，这样使得默认值的取值更加灵活。下面用一个例子来说明，\n",
    "# 如何用自定义的不带参数的函数zero()作为初始化函数的参数：\n",
    "from collections import defaultdict\n",
    "def zero():\n",
    "    return 0\n",
    "\n",
    "d = defaultdict(zero)\n",
    "d['foo']\n",
    "print(d)\n"
   ]
  },
  {
   "cell_type": "code",
   "execution_count": 42,
   "metadata": {},
   "outputs": [
    {
     "data": {
      "text/plain": [
       "5"
      ]
     },
     "execution_count": 42,
     "metadata": {},
     "output_type": "execute_result"
    }
   ],
   "source": [
    "# 利用collections.defaultdict来解决最初的单词统计问题，代码如下：\n",
    "from collections import defaultdict\n",
    "\n",
    "strings = ('puppy', 'kitten', 'puppy', 'puppy',\n",
    "           'weasel', 'puppy', 'kitten', 'puppy')\n",
    "counts = defaultdict(lambda: 0)  # 使用lambda来创建匿名函数\n",
    "\n",
    "for s in strings:\n",
    "    counts[s] += 1\n",
    "    \n",
    "counts['puppy']"
   ]
  },
  {
   "cell_type": "code",
   "execution_count": null,
   "metadata": {},
   "outputs": [],
   "source": []
  }
 ],
 "metadata": {
  "kernelspec": {
   "display_name": "Python 3",
   "language": "python",
   "name": "python3"
  },
  "language_info": {
   "codemirror_mode": {
    "name": "ipython",
    "version": 3
   },
   "file_extension": ".py",
   "mimetype": "text/x-python",
   "name": "python",
   "nbconvert_exporter": "python",
   "pygments_lexer": "ipython3",
   "version": "3.6.4"
  },
  "toc": {
   "base_numbering": 1,
   "nav_menu": {},
   "number_sections": true,
   "sideBar": true,
   "skip_h1_title": false,
   "title_cell": "Table of Contents",
   "title_sidebar": "Contents",
   "toc_cell": false,
   "toc_position": {},
   "toc_section_display": true,
   "toc_window_display": true
  }
 },
 "nbformat": 4,
 "nbformat_minor": 2
}
