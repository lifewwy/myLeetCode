{
 "cells": [
  {
   "cell_type": "markdown",
   "metadata": {},
   "source": [
    "## 怎么解读 defaultdict( set,  {'bar':  { 'quux',  'quux11' },  'foo':  set( ) } )"
   ]
  },
  {
   "cell_type": "code",
   "execution_count": 6,
   "metadata": {},
   "outputs": [
    {
     "name": "stdout",
     "output_type": "stream",
     "text": [
      "defaultdict(<class 'set'>, {'foo': set(), 'bar': {'quux11', 'quux'}})\n"
     ]
    }
   ],
   "source": [
    "from collections import defaultdict\n",
    "d1 = defaultdict(set) # 使用一个类型来初始化\n",
    "d1['foo']  \n",
    "# print(d1) \n",
    "\n",
    "d1['bar'].add('quux')\n",
    "d1['bar'].add('quux11')\n",
    "print(d1)\n",
    "\n",
    "# defaultdict(<class 'set'>, {'foo': set(), 'bar': {'quux11', 'quux'}})\n",
    "# 怎么解读该表示方式"
   ]
  },
  {
   "cell_type": "markdown",
   "metadata": {},
   "source": [
    "<div style=\"float:left;border:solid 1px 000;margin:2px;\"><img src=\"引用文件/variables.png\"></div>"
   ]
  },
  {
   "cell_type": "code",
   "execution_count": null,
   "metadata": {},
   "outputs": [],
   "source": []
  }
 ],
 "metadata": {
  "kernelspec": {
   "display_name": "Python 3",
   "language": "python",
   "name": "python3"
  },
  "language_info": {
   "codemirror_mode": {
    "name": "ipython",
    "version": 3
   },
   "file_extension": ".py",
   "mimetype": "text/x-python",
   "name": "python",
   "nbconvert_exporter": "python",
   "pygments_lexer": "ipython3",
   "version": "3.6.4"
  }
 },
 "nbformat": 4,
 "nbformat_minor": 2
}
