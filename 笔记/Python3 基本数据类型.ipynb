{
 "cells": [
  {
   "cell_type": "markdown",
   "metadata": {},
   "source": [
    "## Python3 中有六个标准的数据类型：\n",
    "\n",
    "* Number（数字）\n",
    "* String（字符串）\n",
    "* List（列表）\n",
    "* Tuple（元组）\n",
    "* Sets（集合）\n",
    "* Dictionary（字典）\n",
    "\n",
    "Python3 的六个标准数据类型中：\n",
    "\n",
    ">**不可变数据**：Number（数字）、String（字符串）、Tuple（元组）、Frozenset（不可变集合）；<br>\n",
    "**可变数据**：List（列表）、Dictionary（字典）、Set（可变集合）。\n",
    "\n",
    "**序列（Sequence)**: String（字符串）、List（列表）、Tuple（元组）\n",
    "\n",
    "参考\n",
    "[1](http://www.openbookproject.net/books/bpp4awd/ch03.html)"
   ]
  },
  {
   "cell_type": "markdown",
   "metadata": {},
   "source": [
    "**Sequence Types**: The list, tuple, and str Classes  \n",
    "The list, tuple, and str classes are sequence types in Python, representing a collection\n",
    "of values in which the order is significant.   \n",
    "The list class is the most general,\n",
    "representing a sequence of arbitrary objects.\n",
    "\n",
    "\n",
    "```enumerate( sequence )  \n",
    "reversed( sequence )  \n",
    "sorted( sequence )  \n",
    "zip( sequence )\n",
    "```"
   ]
  },
  {
   "cell_type": "code",
   "execution_count": 12,
   "metadata": {},
   "outputs": [
    {
     "name": "stdout",
     "output_type": "stream",
     "text": [
      "c b a \n",
      "a b c d e f "
     ]
    }
   ],
   "source": [
    "for i in reversed('abc'):\n",
    "    print(i,end=' ')\n",
    "\n",
    "print()\n",
    "\n",
    "for i in sorted('adbefc'):\n",
    "    print(i,end=' ')"
   ]
  },
  {
   "cell_type": "markdown",
   "metadata": {},
   "source": [
    "## Number（数字）\n",
    "### Python3 支持 int、float、bool、complex（复数）。"
   ]
  },
  {
   "cell_type": "code",
   "execution_count": 2,
   "metadata": {},
   "outputs": [
    {
     "name": "stdout",
     "output_type": "stream",
     "text": [
      "5 5.123 True (3+5j)\n"
     ]
    }
   ],
   "source": [
    "a, b, c, d = 5, 5.123, True, 3+5j\n",
    "print(a,b,c,d)"
   ]
  },
  {
   "cell_type": "markdown",
   "metadata": {},
   "source": [
    "**注意：**\n",
    ">在 Python2 中是没有布尔型的，它用数字 0 表示 False，用 1 表示 True。<br>\n",
    "到 Python3 中，把 True 和 False 定义成关键字了，但它们的值还是 1 和 0，它们可以和数字相加。"
   ]
  },
  {
   "cell_type": "code",
   "execution_count": 3,
   "metadata": {},
   "outputs": [
    {
     "name": "stdout",
     "output_type": "stream",
     "text": [
      "6\n",
      "0.02\n",
      "0.0\n"
     ]
    }
   ],
   "source": [
    "print( 5 + True )\n",
    "print( True / 50 )\n",
    "print( False / 8 )"
   ]
  },
  {
   "cell_type": "markdown",
   "metadata": {},
   "source": [
    "### 数值的除法包含两个运算符：/ 返回一个浮点数，// 返回一个整数。"
   ]
  },
  {
   "cell_type": "code",
   "execution_count": 4,
   "metadata": {},
   "outputs": [
    {
     "data": {
      "text/plain": [
       "2.0"
      ]
     },
     "execution_count": 4,
     "metadata": {},
     "output_type": "execute_result"
    }
   ],
   "source": [
    "8/4"
   ]
  },
  {
   "cell_type": "code",
   "execution_count": 5,
   "metadata": {},
   "outputs": [
    {
     "data": {
      "text/plain": [
       "2"
      ]
     },
     "execution_count": 5,
     "metadata": {},
     "output_type": "execute_result"
    }
   ],
   "source": [
    "8//4"
   ]
  },
  {
   "cell_type": "code",
   "execution_count": 6,
   "metadata": {},
   "outputs": [
    {
     "data": {
      "text/plain": [
       "1.6666666666666667"
      ]
     },
     "execution_count": 6,
     "metadata": {},
     "output_type": "execute_result"
    }
   ],
   "source": [
    "5/3"
   ]
  },
  {
   "cell_type": "code",
   "execution_count": 7,
   "metadata": {},
   "outputs": [
    {
     "data": {
      "text/plain": [
       "1"
      ]
     },
     "execution_count": 7,
     "metadata": {},
     "output_type": "execute_result"
    }
   ],
   "source": [
    "5//3"
   ]
  },
  {
   "cell_type": "code",
   "execution_count": 8,
   "metadata": {},
   "outputs": [
    {
     "data": {
      "text/plain": [
       "2575"
      ]
     },
     "execution_count": 8,
     "metadata": {},
     "output_type": "execute_result"
    }
   ],
   "source": [
    "0xA0F # 十六进制"
   ]
  },
  {
   "cell_type": "code",
   "execution_count": 9,
   "metadata": {},
   "outputs": [
    {
     "data": {
      "text/plain": [
       "31"
      ]
     },
     "execution_count": 9,
     "metadata": {},
     "output_type": "execute_result"
    }
   ],
   "source": [
    "0o37 # 八进制"
   ]
  },
  {
   "cell_type": "markdown",
   "metadata": {},
   "source": [
    "## 数据类型转换\n",
    ">Number（数字）\n",
    ">\n",
    ">>int( x [,base] ) 将 x 转换为一个整数 <br>\n",
    "float( x ) 将 x 转换到一个浮点数 <br>\n",
    "complex( real [,imag] ) 创建一个复数 <br>\n",
    "ord( x ) 将一个字符转换为它的整数值\n",
    ">\n",
    ">String（字符串）<br>\n",
    ">\n",
    ">> str( x ) 将对象 x 转换为字符串 <br>\n",
    "chr(x) 将一个整数转换为一个字符 <br>\n",
    "hex(x) 将一个整数转换为一个十六进制字符串 <br>\n",
    "oct(x) 将一个整数转换为一个八进制字符串 \n",
    ">\n",
    ">List（列表）\n",
    ">\n",
    ">>list(s) 将序列 s 转换为一个列表 <br>\n",
    "l = str.split(separator) 将字符串转换为一个列表\n",
    ">\n",
    ">Tuple（元组）\n",
    ">\n",
    ">>tuple(s) 将序列 s 转换为一个元组\n",
    ">\n",
    ">Sets（集合）\n",
    ">> set(s) \n",
    ">\n",
    ">Dictionary（字典）\n",
    ">\n",
    ">>dict(d) 创建一个字典。\n"
   ]
  },
  {
   "cell_type": "code",
   "execution_count": 10,
   "metadata": {},
   "outputs": [
    {
     "data": {
      "text/plain": [
       "(12, 13)"
      ]
     },
     "execution_count": 10,
     "metadata": {},
     "output_type": "execute_result"
    }
   ],
   "source": [
    "int('12') , int(13.4)"
   ]
  },
  {
   "cell_type": "code",
   "execution_count": 11,
   "metadata": {},
   "outputs": [
    {
     "data": {
      "text/plain": [
       "(3.14159, (5+8j), (5+8j), 97)"
      ]
     },
     "execution_count": 11,
     "metadata": {},
     "output_type": "execute_result"
    }
   ],
   "source": [
    "float('3.14159'), complex('5+8j'), complex(5,8), ord('a')"
   ]
  },
  {
   "cell_type": "code",
   "execution_count": 12,
   "metadata": {},
   "outputs": [
    {
     "data": {
      "text/plain": [
       "('3.14159', '56', 'a', 'z', '0x19', '0o17')"
      ]
     },
     "execution_count": 12,
     "metadata": {},
     "output_type": "execute_result"
    }
   ],
   "source": [
    "str(3.14159), str(56), chr(97), chr(122), hex(25), oct(15)"
   ]
  },
  {
   "cell_type": "code",
   "execution_count": 13,
   "metadata": {},
   "outputs": [
    {
     "name": "stdout",
     "output_type": "stream",
     "text": [
      "列表元素 :  [123, 'Google', 'Runoob', 'Taobao']\n"
     ]
    }
   ],
   "source": [
    "aTuple = (123, 'Google', 'Runoob', 'Taobao')\n",
    "list1 = list(aTuple)\n",
    "print (\"列表元素 : \", list1)"
   ]
  },
  {
   "cell_type": "code",
   "execution_count": 16,
   "metadata": {},
   "outputs": [
    {
     "data": {
      "text/plain": [
       "['A', 'm', 'e', 'r', 'i', 'c', 'a']"
      ]
     },
     "execution_count": 16,
     "metadata": {},
     "output_type": "execute_result"
    }
   ],
   "source": [
    "list('America')"
   ]
  },
  {
   "cell_type": "code",
   "execution_count": 14,
   "metadata": {},
   "outputs": [
    {
     "name": "stdout",
     "output_type": "stream",
     "text": [
      "['A', 'm', 'e', 'r', 'ica']\n"
     ]
    }
   ],
   "source": [
    "print( 'A_m_e_r_ica'.split('_'))"
   ]
  },
  {
   "cell_type": "code",
   "execution_count": 15,
   "metadata": {},
   "outputs": [
    {
     "data": {
      "text/plain": [
       "156"
      ]
     },
     "execution_count": 15,
     "metadata": {},
     "output_type": "execute_result"
    }
   ],
   "source": [
    "# eval() 函数用来执行一个字符串表达式，并返回表达式的值。\n",
    "a = 100\n",
    "eval('a+56')"
   ]
  },
  {
   "cell_type": "code",
   "execution_count": null,
   "metadata": {},
   "outputs": [],
   "source": []
  }
 ],
 "metadata": {
  "kernelspec": {
   "display_name": "Python 3",
   "language": "python",
   "name": "python3"
  },
  "language_info": {
   "codemirror_mode": {
    "name": "ipython",
    "version": 3
   },
   "file_extension": ".py",
   "mimetype": "text/x-python",
   "name": "python",
   "nbconvert_exporter": "python",
   "pygments_lexer": "ipython3",
   "version": "3.6.4"
  },
  "toc": {
   "base_numbering": 1,
   "nav_menu": {},
   "number_sections": true,
   "sideBar": true,
   "skip_h1_title": false,
   "title_cell": "Table of Contents",
   "title_sidebar": "Contents",
   "toc_cell": false,
   "toc_position": {},
   "toc_section_display": true,
   "toc_window_display": true
  }
 },
 "nbformat": 4,
 "nbformat_minor": 2
}
