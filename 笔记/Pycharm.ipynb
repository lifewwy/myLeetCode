{
 "cells": [
  {
   "cell_type": "markdown",
   "metadata": {},
   "source": [
    "## 快捷键"
   ]
  },
  {
   "cell_type": "markdown",
   "metadata": {},
   "source": [
    ">替换：Ctrl+R  \n",
    "删除当前行：Ctrl+Y    \n",
    "复制当前行：Ctrl+D  \n",
    "ALT F7: 查找哪些地方使用了选中的方法。  \n",
    "CTRL SHIFT UP: 将当前行上移一行    \n",
    "CTRL SHIFT UP: 将当前行下移一行  "
   ]
  }
 ],
 "metadata": {
  "kernelspec": {
   "display_name": "Python 3",
   "language": "python",
   "name": "python3"
  },
  "language_info": {
   "codemirror_mode": {
    "name": "ipython",
    "version": 3
   },
   "file_extension": ".py",
   "mimetype": "text/x-python",
   "name": "python",
   "nbconvert_exporter": "python",
   "pygments_lexer": "ipython3",
   "version": "3.6.4"
  }
 },
 "nbformat": 4,
 "nbformat_minor": 2
}
