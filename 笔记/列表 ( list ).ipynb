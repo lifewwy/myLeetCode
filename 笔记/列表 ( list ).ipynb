{
 "cells": [
  {
   "cell_type": "markdown",
   "metadata": {},
   "source": [
    "## list 不是保留字（关键字）"
   ]
  },
  {
   "cell_type": "code",
   "execution_count": 7,
   "metadata": {},
   "outputs": [
    {
     "name": "stdout",
     "output_type": "stream",
     "text": [
      "False\n"
     ]
    }
   ],
   "source": [
    "import keyword\n",
    "print( keyword.iskeyword('list') )"
   ]
  },
  {
   "cell_type": "markdown",
   "metadata": {},
   "source": [
    "## 创建列表"
   ]
  },
  {
   "cell_type": "code",
   "execution_count": 8,
   "metadata": {},
   "outputs": [],
   "source": [
    "list1 = ['Google', 'Runoob', 1997, 2000]\n",
    "list2 = [1, 2, 3, 4, 5, 6, 7 ]\n",
    "list3 = [\"a\", \"b\", \"c\", \"d\"]"
   ]
  },
  {
   "cell_type": "code",
   "execution_count": 9,
   "metadata": {},
   "outputs": [],
   "source": [
    "# 创建一个空列表\n",
    "mylist = [] "
   ]
  },
  {
   "cell_type": "code",
   "execution_count": 10,
   "metadata": {},
   "outputs": [
    {
     "name": "stdout",
     "output_type": "stream",
     "text": [
      "[['a', 'b', 'c'], [1, 2, 3]]\n"
     ]
    }
   ],
   "source": [
    "# 嵌套列表\n",
    "# 使用嵌套列表即在列表里创建其它列表\n",
    "a = ['a', 'b', 'c']\n",
    "n = [1, 2, 3]\n",
    "x = [a, n]\n",
    "print(x)"
   ]
  },
  {
   "cell_type": "code",
   "execution_count": 11,
   "metadata": {},
   "outputs": [
    {
     "data": {
      "text/plain": [
       "[0, 2, 4, 6, 8]"
      ]
     },
     "execution_count": 11,
     "metadata": {},
     "output_type": "execute_result"
    }
   ],
   "source": [
    "# 列表推导式\n",
    "[2*x for x in range(5)]"
   ]
  },
  {
   "cell_type": "code",
   "execution_count": 12,
   "metadata": {},
   "outputs": [
    {
     "name": "stdout",
     "output_type": "stream",
     "text": [
      "['a', 'b', 'c', ' ', 'e', 'f', 'g']\n"
     ]
    }
   ],
   "source": [
    "# 字符串转列表\n",
    "print( list('abc efg') )"
   ]
  },
  {
   "cell_type": "markdown",
   "metadata": {},
   "source": [
    "## 访问列表中的值\n",
    "> 列表索引从0开始"
   ]
  },
  {
   "cell_type": "code",
   "execution_count": 13,
   "metadata": {},
   "outputs": [
    {
     "name": "stdout",
     "output_type": "stream",
     "text": [
      "list[0]:  a\n",
      "['c', 'd', 'e']\n"
     ]
    }
   ],
   "source": [
    "list = ['a','b','c','d','e','f']\n",
    "print (\"list[0]: \", list[0])  # 列表索引从0开始\n",
    "print ( list[2:5] )           # 注意，不包括 list[5]，只到 list[4]"
   ]
  },
  {
   "cell_type": "code",
   "execution_count": 14,
   "metadata": {},
   "outputs": [
    {
     "name": "stdout",
     "output_type": "stream",
     "text": [
      "[0, 1, 2, 3, 4, 5, 6, 7, 8, 9]\n",
      "[3, 4, 5, 6]\n"
     ]
    }
   ],
   "source": [
    "mylist = [x for x in range(10)]\n",
    "print(mylist)\n",
    "print(mylist[3:7])    # 只到 mylist[6]"
   ]
  },
  {
   "cell_type": "code",
   "execution_count": 15,
   "metadata": {},
   "outputs": [
    {
     "name": "stdout",
     "output_type": "stream",
     "text": [
      "Taobao\n",
      "['Runoob', 'Taobao', 1, 2, 3]\n"
     ]
    }
   ],
   "source": [
    "L=['Google', 'Runoob', 'Taobao', 1, 2, 3]\n",
    "print( L[-4] ) # 从右侧开始读取倒数第4个元素\n",
    "print( L[1:] ) # 输出从第2个元素开始后的所有元素"
   ]
  },
  {
   "cell_type": "code",
   "execution_count": 16,
   "metadata": {},
   "outputs": [
    {
     "name": "stdout",
     "output_type": "stream",
     "text": [
      "[0, 1, 2, 3, 4, 5, 6, 7, 8, 9, 10, 11, 12, 13, 14]\n",
      "[2, 5, 8, 11]\n",
      "[0, 2, 4, 6, 8, 10, 12, 14]\n"
     ]
    }
   ],
   "source": [
    "list = [i for i in range(0,15)]\n",
    "print( list )\n",
    "print( list[2:13:3] ) # list[start:end:span]\n",
    "print( list[::2] )"
   ]
  },
  {
   "cell_type": "code",
   "execution_count": 17,
   "metadata": {},
   "outputs": [
    {
     "name": "stdout",
     "output_type": "stream",
     "text": [
      "True\n"
     ]
    }
   ],
   "source": [
    "print( 3 in list2 )"
   ]
  },
  {
   "cell_type": "code",
   "execution_count": 18,
   "metadata": {},
   "outputs": [
    {
     "name": "stdout",
     "output_type": "stream",
     "text": [
      "1\n",
      "2\n",
      "3\n"
     ]
    }
   ],
   "source": [
    "for x in [1, 2, 3]: \n",
    "    print(x)"
   ]
  },
  {
   "cell_type": "markdown",
   "metadata": {},
   "source": [
    "## 更新列表"
   ]
  },
  {
   "cell_type": "code",
   "execution_count": 19,
   "metadata": {},
   "outputs": [
    {
     "name": "stdout",
     "output_type": "stream",
     "text": [
      "第三个元素为 :  1997\n",
      "更新后的第三个元素为 :  2001\n"
     ]
    }
   ],
   "source": [
    "# 你可以对列表的数据项进行修改或更新\n",
    "list = ['Google', 'Runoob', 1997, 2000];\n",
    "print (\"第三个元素为 : \", list[2])\n",
    "list[2] = 2001\n",
    "print (\"更新后的第三个元素为 : \", list[2])"
   ]
  },
  {
   "cell_type": "code",
   "execution_count": 20,
   "metadata": {},
   "outputs": [
    {
     "name": "stdout",
     "output_type": "stream",
     "text": [
      "['Google', 'Runoob', 1997, 2000]\n",
      "删除第三个元素 :  ['Google', 'Runoob', 2000]\n"
     ]
    }
   ],
   "source": [
    "list = ['Google', 'Runoob', 1997, 2000]\n",
    "print (list)\n",
    "# 删除列表元素\n",
    "del list[2]\n",
    "print (\"删除第三个元素 : \", list)"
   ]
  },
  {
   "cell_type": "markdown",
   "metadata": {},
   "source": [
    "## list的操作符"
   ]
  },
  {
   "cell_type": "code",
   "execution_count": 21,
   "metadata": {},
   "outputs": [
    {
     "name": "stdout",
     "output_type": "stream",
     "text": [
      "['Google', 'Runoob', 1997, 2000, 1, 2, 3, 4, 5, 6, 7]\n",
      "['Google', 'Runoob', 1997, 2000, 'Google', 'Runoob', 1997, 2000, 'Google', 'Runoob', 1997, 2000, 'Google', 'Runoob', 1997, 2000, 'Google', 'Runoob', 1997, 2000]\n"
     ]
    }
   ],
   "source": [
    "# + 号用于组合列表，* 号用于重复列表\n",
    "list1 = ['Google', 'Runoob', 1997, 2000];\n",
    "list2 = [1, 2, 3, 4, 5, 6, 7 ];\n",
    "print( list1 + list2 )\n",
    "print( list1*5)"
   ]
  },
  {
   "cell_type": "markdown",
   "metadata": {},
   "source": [
    "## 列表的函数"
   ]
  },
  {
   "cell_type": "code",
   "execution_count": 22,
   "metadata": {},
   "outputs": [
    {
     "name": "stdout",
     "output_type": "stream",
     "text": [
      "7\n",
      "100\n",
      "-41\n"
     ]
    }
   ],
   "source": [
    "list = [-41, 2, 3, 4, 5, 6, 100 ];\n",
    "print( len(list) )\n",
    "print( max(list) )\n",
    "print( min(list) )"
   ]
  },
  {
   "cell_type": "code",
   "execution_count": 23,
   "metadata": {},
   "outputs": [
    {
     "name": "stdout",
     "output_type": "stream",
     "text": [
      "0 tic\n",
      "1 tac\n",
      "2 toe\n"
     ]
    }
   ],
   "source": [
    "# 在序列中遍历时，索引位置和对应值可以使用 enumerate() 函数同时得到：\n",
    "list = ['tic', 'tac', 'toe']\n",
    "for i, v in enumerate( list ):\n",
    "    print(i, v)"
   ]
  },
  {
   "cell_type": "markdown",
   "metadata": {},
   "source": [
    "## 列表的方法"
   ]
  },
  {
   "cell_type": "code",
   "execution_count": 24,
   "metadata": {},
   "outputs": [
    {
     "name": "stdout",
     "output_type": "stream",
     "text": [
      "[-41, 2, 3, 'abc']\n"
     ]
    }
   ],
   "source": [
    "# 在列表末尾添加新的对象 \n",
    "list = [-41, 2, 3];\n",
    "list.append('abc');  print( list )"
   ]
  },
  {
   "cell_type": "code",
   "execution_count": 25,
   "metadata": {},
   "outputs": [
    {
     "name": "stdout",
     "output_type": "stream",
     "text": [
      "列表插入元素后为 :  ['Google', 'Runoob', 'Baidu', 'Taobao']\n"
     ]
    }
   ],
   "source": [
    "# 在指定的索引位置，将对象插入列表\n",
    "list1 = ['Google', 'Runoob', 'Taobao']\n",
    "list1.insert(2, 'Baidu')\n",
    "print ('列表插入元素后为 : ', list1)"
   ]
  },
  {
   "cell_type": "code",
   "execution_count": 26,
   "metadata": {},
   "outputs": [
    {
     "name": "stdout",
     "output_type": "stream",
     "text": [
      "['a', 'b', 'c', 'a', 'b', 'c']\n",
      "第一个 b 的索引位置为： 1\n"
     ]
    }
   ],
   "source": [
    "# 从列表中找出某个值第一个匹配项的索引位置\n",
    "list = 'a b c a b c'.split(' ')\n",
    "print(list)\n",
    "print('第一个 b 的索引位置为：', list.index('b')) "
   ]
  },
  {
   "cell_type": "code",
   "execution_count": 27,
   "metadata": {},
   "outputs": [
    {
     "name": "stdout",
     "output_type": "stream",
     "text": [
      "None\n",
      "[-500, -41, 2, 4, 5, 6, 100]\n"
     ]
    }
   ],
   "source": [
    "# 对原列表进行排序\n",
    "list = [-41, 2, -500, 4, 5, 6, 100 ]\n",
    "re = list.sort()\n",
    "print(re)  # 注意，返回值为 None\n",
    "print( list ) "
   ]
  },
  {
   "cell_type": "code",
   "execution_count": 28,
   "metadata": {},
   "outputs": [
    {
     "name": "stdout",
     "output_type": "stream",
     "text": [
      "[4, 7, 5, 5]\n"
     ]
    }
   ],
   "source": [
    "# 移除列表中某个值的第一个匹配项\n",
    "list = [4,5,7,5,5]\n",
    "list.remove(5)\n",
    "print(list)"
   ]
  },
  {
   "cell_type": "code",
   "execution_count": 29,
   "metadata": {},
   "outputs": [
    {
     "name": "stdout",
     "output_type": "stream",
     "text": [
      "['hi', 'hello', 'world']\n"
     ]
    }
   ],
   "source": [
    "# 将字符串拆除列表\n",
    "str1 = \"hi hello world\"\n",
    "print(str1.split(\" \"))"
   ]
  },
  {
   "cell_type": "code",
   "execution_count": null,
   "metadata": {},
   "outputs": [],
   "source": []
  }
 ],
 "metadata": {
  "kernelspec": {
   "display_name": "Python 3",
   "language": "python",
   "name": "python3"
  },
  "language_info": {
   "codemirror_mode": {
    "name": "ipython",
    "version": 3
   },
   "file_extension": ".py",
   "mimetype": "text/x-python",
   "name": "python",
   "nbconvert_exporter": "python",
   "pygments_lexer": "ipython3",
   "version": "3.6.4"
  }
 },
 "nbformat": 4,
 "nbformat_minor": 2
}
