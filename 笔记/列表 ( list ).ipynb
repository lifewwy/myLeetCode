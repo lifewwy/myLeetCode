{
 "cells": [
  {
   "cell_type": "markdown",
   "metadata": {},
   "source": [
    "## list 不是保留字（关键字）"
   ]
  },
  {
   "cell_type": "code",
   "execution_count": 28,
   "metadata": {},
   "outputs": [
    {
     "name": "stdout",
     "output_type": "stream",
     "text": [
      "False\n"
     ]
    }
   ],
   "source": [
    "import keyword\n",
    "print( keyword.iskeyword('list') )"
   ]
  },
  {
   "cell_type": "markdown",
   "metadata": {},
   "source": [
    "## 创建列表"
   ]
  },
  {
   "cell_type": "markdown",
   "metadata": {},
   "source": [
    "The list( ) constructor produces an empty list by default. However, the constructor\n",
    "will accept any parameter that is of an iterable type. We will discuss iteration\n",
    "further, but examples of iterable types include all of the standard container\n",
    "types (e.g., strings, list, tuples, sets, dictionaries). For example, the syntax\n",
    "list( 'hello' ) produces a list of individual characters, [ 'h' , 'e' , 'l' , 'l' , 'o' ].\n",
    "Because an existing list is itself iterable, the syntax backup = list(data) can be\n",
    "used to construct a new list instance referencing the same contents as the original.\n",
    "\n",
    "```list(任何的可迭代对象)```  \n"
   ]
  },
  {
   "cell_type": "code",
   "execution_count": 29,
   "metadata": {},
   "outputs": [
    {
     "name": "stdout",
     "output_type": "stream",
     "text": [
      "['a', 'b', 'c']\n",
      "['a', 'b', 'c']\n",
      "[0, 1, 2, 3, 4]\n",
      "[(0, 'a'), (1, 'b'), (2, 'c')]\n",
      "[1, 2, 3, 4, 5, 'z', 'a']\n"
     ]
    }
   ],
   "source": [
    "# list(任何的可迭代对象)\n",
    "list1 = list('abc'); print(list1)\n",
    "list2 = list(list1); print(list2)\n",
    "print(list(range(5)))\n",
    "print(list(enumerate(list1)))\n",
    "print(list({1,2,3,4,5,'z','a'}))"
   ]
  },
  {
   "cell_type": "code",
   "execution_count": 30,
   "metadata": {},
   "outputs": [],
   "source": [
    "list1 = ['Google', 'Runoob', 1997, 2000]\n",
    "list2 = [1, 2, 3, 4, 5, 6, 7 ]\n",
    "list3 = [\"a\", \"b\", \"c\", \"d\"]"
   ]
  },
  {
   "cell_type": "code",
   "execution_count": 31,
   "metadata": {},
   "outputs": [
    {
     "name": "stdout",
     "output_type": "stream",
     "text": [
      "[]\n",
      "[]\n"
     ]
    }
   ],
   "source": [
    "# 创建一个空列表\n",
    "l = [] ;            print(l)\n",
    "mylist = list();    print(l)"
   ]
  },
  {
   "cell_type": "code",
   "execution_count": 32,
   "metadata": {},
   "outputs": [
    {
     "name": "stdout",
     "output_type": "stream",
     "text": [
      "[['a', 'b', 'c'], [1, 2, 3]]\n"
     ]
    }
   ],
   "source": [
    "# 嵌套列表\n",
    "# 使用嵌套列表即在列表里创建其它列表\n",
    "a = ['a', 'b', 'c']\n",
    "n = [1, 2, 3]\n",
    "x = [a, n]\n",
    "print(x)"
   ]
  },
  {
   "cell_type": "code",
   "execution_count": 33,
   "metadata": {},
   "outputs": [
    {
     "data": {
      "text/plain": [
       "[0, 2, 4, 6, 8]"
      ]
     },
     "execution_count": 33,
     "metadata": {},
     "output_type": "execute_result"
    }
   ],
   "source": [
    "# 列表推导式\n",
    "[2*x for x in range(5)]"
   ]
  },
  {
   "cell_type": "code",
   "execution_count": 34,
   "metadata": {},
   "outputs": [
    {
     "name": "stdout",
     "output_type": "stream",
     "text": [
      "['a', 'b', 'c', ' ', 'e', 'f', 'g']\n",
      "['A', 'm', 'e', 'r', 'ica']\n"
     ]
    }
   ],
   "source": [
    "# 字符串转列表\n",
    "print( list('abc efg') )\n",
    "print( 'A_m_e_r_ica'.split('_'))\n",
    "\n",
    "# 列表转字符串\n",
    "# '    '.join(['a','b','c'])"
   ]
  },
  {
   "cell_type": "markdown",
   "metadata": {},
   "source": [
    "## 访问列表中的值\n",
    "> 列表索引从0开始"
   ]
  },
  {
   "cell_type": "code",
   "execution_count": 35,
   "metadata": {},
   "outputs": [
    {
     "name": "stdout",
     "output_type": "stream",
     "text": [
      "list[0]:  a\n",
      "['c', 'd', 'e']\n"
     ]
    }
   ],
   "source": [
    "list1 = ['a','b','c','d','e','f']\n",
    "print (\"list[0]: \", list1[0])  # 列表索引从0开始\n",
    "print ( list1[2:5] )           # 注意，不包括 list[5]，只到 list[4]"
   ]
  },
  {
   "cell_type": "code",
   "execution_count": 36,
   "metadata": {},
   "outputs": [
    {
     "name": "stdout",
     "output_type": "stream",
     "text": [
      "[0, 1, 2, 3, 4, 5, 6, 7, 8, 9]\n",
      "[3, 4, 5, 6]\n"
     ]
    }
   ],
   "source": [
    "mylist = [x for x in range(10)]\n",
    "print(mylist)\n",
    "print(mylist[3:7])    # 只到 mylist[6]"
   ]
  },
  {
   "cell_type": "code",
   "execution_count": 37,
   "metadata": {},
   "outputs": [
    {
     "name": "stdout",
     "output_type": "stream",
     "text": [
      "Taobao\n",
      "['Runoob', 'Taobao', 1, 2, 3]\n",
      "['Runoob', 'Taobao']\n"
     ]
    }
   ],
   "source": [
    "L=['Google', 'Runoob', 'Taobao', 1, 2, 3]\n",
    "print( L[-4] ) # 从右侧开始读取倒数第4个元素\n",
    "print( L[1:] ) # 输出从第2个元素开始后的所有元素\n",
    "print(L[1:-3]) # 不包括 L[-3]"
   ]
  },
  {
   "cell_type": "code",
   "execution_count": 38,
   "metadata": {},
   "outputs": [
    {
     "name": "stdout",
     "output_type": "stream",
     "text": [
      "[0, 1, 2, 3, 4, 5, 6, 7, 8, 9, 10, 11, 12, 13, 14]\n",
      "[2, 5, 8, 11]\n",
      "[0, 2, 4, 6, 8, 10, 12, 14]\n",
      "\n",
      "['g', 'f', 'e', 'd', 'c', 'b', 'a']\n",
      "['e', 'd', 'c', 'b', 'a']\n"
     ]
    }
   ],
   "source": [
    "list1 = [i for i in range(0,15)]\n",
    "print( list1 )\n",
    "print( list1[2:13:3] ) # list[start:end:span]\n",
    "print( list1[::2] )\n",
    "\n",
    "x = list('abcdefg')\n",
    "print()\n",
    "print(x[::-1])\n",
    "print(x[-3::-1])"
   ]
  },
  {
   "cell_type": "code",
   "execution_count": 39,
   "metadata": {},
   "outputs": [
    {
     "name": "stdout",
     "output_type": "stream",
     "text": [
      "True\n"
     ]
    }
   ],
   "source": [
    "# 成员运算符 in\n",
    "print( 3 in list2 )"
   ]
  },
  {
   "cell_type": "code",
   "execution_count": 40,
   "metadata": {},
   "outputs": [
    {
     "name": "stdout",
     "output_type": "stream",
     "text": [
      "1\n",
      "2\n",
      "3\n"
     ]
    }
   ],
   "source": [
    "# 遍历\n",
    "for x in [1, 2, 3]: \n",
    "    print(x)"
   ]
  },
  {
   "cell_type": "markdown",
   "metadata": {},
   "source": [
    "## 更新列表"
   ]
  },
  {
   "cell_type": "code",
   "execution_count": 41,
   "metadata": {},
   "outputs": [
    {
     "name": "stdout",
     "output_type": "stream",
     "text": [
      "第三个元素为 :  1997\n",
      "更新后的第三个元素为 :  2000\n",
      "['Google', 'Runoob', 2000, 2000]\n"
     ]
    }
   ],
   "source": [
    "# 你可以对列表的数据项进行修改或更新\n",
    "list1 = ['Google', 'Runoob', 1997, 2000];\n",
    "print (\"第三个元素为 : \", list1[2])\n",
    "list1[2] = 2000\n",
    "print (\"更新后的第三个元素为 : \", list1[2])\n",
    "print(list1)"
   ]
  },
  {
   "cell_type": "code",
   "execution_count": 42,
   "metadata": {},
   "outputs": [
    {
     "name": "stdout",
     "output_type": "stream",
     "text": [
      "['Google', 'Runoob', 1997, 2000]\n",
      "删除第三个元素 :  ['Google', 'Runoob', 2000]\n"
     ]
    }
   ],
   "source": [
    "list1 = ['Google', 'Runoob', 1997, 2000]\n",
    "print (list1)\n",
    "# 删除列表元素\n",
    "del list1[2]\n",
    "print (\"删除第三个元素 : \", list1)"
   ]
  },
  {
   "cell_type": "markdown",
   "metadata": {},
   "source": [
    "<div style=\"float:right;border:solid 1px 000;margin:2px;\"><img src=\"引用文件/list.svg\"  width=\"500\"></div>\n",
    "\n",
    ">对列表的元素进行批量修改、替换，<font color='MediumVioletRed'>这里和MATLAB有非常大的区别</font>    \n",
    "```x[ i : i+n+1 ] = 长度为 m 的sequence(list、string 或者 tuple)  ```  \n",
    "**这里，不要求 ```n``` 和 ```m``` 相等**  \n",
    "```n >= m``` 或者 ```n < m``` 都可以，修改替换后序列 ```x``` 的长度可能会发生变化"
   ]
  },
  {
   "cell_type": "code",
   "execution_count": 43,
   "metadata": {},
   "outputs": [
    {
     "name": "stdout",
     "output_type": "stream",
     "text": [
      "[0, 1, 2, 3, 4, 5, 6, 7, 8, 9]\n",
      "[0, 1, 2, 8, 8, 8, 8, 8, 6, 7, 8, 9]\n"
     ]
    }
   ],
   "source": [
    "x = [0,1,2,3,4,5,6,7,8,9]; print(x)\n",
    "x[3:6] = [8,8,8,8,8]  ;    print(x)   \n",
    "# 序列 x 的长度变长了"
   ]
  },
  {
   "cell_type": "code",
   "execution_count": 64,
   "metadata": {},
   "outputs": [
    {
     "name": "stdout",
     "output_type": "stream",
     "text": [
      "[0, 1, 2, 3, 4, 5, 6, 7, 8, 9]\n",
      "[0, 1, 4, 4, 8, 9]\n"
     ]
    }
   ],
   "source": [
    "x = [0,1,2,3,4,5,6,7,8,9]; print(x)\n",
    "x[2:8] = (4,4); print(x)\n",
    "# 序列 x 的长度变短了"
   ]
  },
  {
   "cell_type": "code",
   "execution_count": 45,
   "metadata": {},
   "outputs": [
    {
     "name": "stdout",
     "output_type": "stream",
     "text": [
      "[0, 1, 2, 3, 4, 5, 6, 7, 8, 9]\n",
      "[0, 1, 2, 'a', 'b', 'c', 6, 7, 8, 9]\n"
     ]
    }
   ],
   "source": [
    "x = [0,1,2,3,4,5,6,7,8,9]; print(x)\n",
    "x[3:6] = 'abc'; print(x)\n",
    "# 序列 x 的长度没变"
   ]
  },
  {
   "cell_type": "code",
   "execution_count": 62,
   "metadata": {},
   "outputs": [
    {
     "name": "stdout",
     "output_type": "stream",
     "text": [
      "[0, 1, 2, 3, 4, 5, 6, 7, 8, 9]\n",
      "[0, 17, 18, 3, 4, 5, 6, 7, 8, 9]\n"
     ]
    }
   ],
   "source": [
    "# 注意，修改相邻的两个元素是 x[i:i+2]，而不是 x[i:i+1]\n",
    "x = [0,1,2,3,4,5,6,7,8,9]; print(x)\n",
    "x[1:3] = [17,18]; print(x)"
   ]
  },
  {
   "cell_type": "code",
   "execution_count": 63,
   "metadata": {},
   "outputs": [
    {
     "name": "stdout",
     "output_type": "stream",
     "text": [
      "[0, 1, 2, 3, 4, 5, 6, 7, 8, 9]\n",
      "[0, 1, 2, 'a', 'b', 'c', 4, 5, 6, 7, 8, 9]\n"
     ]
    }
   ],
   "source": [
    "# 将列表的第 i 个元素替换\n",
    "x = [0,1,2,3,4,5,6,7,8,9]; print(x)\n",
    "i = 3\n",
    "x[i:i+1] = ['a','b','c']; print(x)"
   ]
  },
  {
   "cell_type": "code",
   "execution_count": 48,
   "metadata": {},
   "outputs": [
    {
     "name": "stdout",
     "output_type": "stream",
     "text": [
      "[0, 1, 2, 3, 4, 5, 6, 7, 8, 9]\n",
      "[0, 1, 2, 3, 4, [8, 8], 6, 7, 8, 9]\n"
     ]
    }
   ],
   "source": [
    "# 注意和 x[i] = ... 的形式相区别\n",
    "x = [0,1,2,3,4,5,6,7,8,9]; print(x)\n",
    "x[5] = [8,8]; print(x)\n",
    "# 序列 x 的长度没变"
   ]
  },
  {
   "cell_type": "markdown",
   "metadata": {},
   "source": [
    ">对列表的元素进行批量删除"
   ]
  },
  {
   "cell_type": "code",
   "execution_count": 49,
   "metadata": {},
   "outputs": [
    {
     "name": "stdout",
     "output_type": "stream",
     "text": [
      "[7, 5, 4, 8, 45, 90, 87]\n",
      "[7, 5, 4, 87]\n"
     ]
    }
   ],
   "source": [
    "x = [7,5,4,8,45,90,87];  print(x)\n",
    "del x[3:6]; print(x)\n"
   ]
  },
  {
   "cell_type": "markdown",
   "metadata": {},
   "source": [
    "## list的操作符"
   ]
  },
  {
   "cell_type": "code",
   "execution_count": 6,
   "metadata": {},
   "outputs": [
    {
     "name": "stdout",
     "output_type": "stream",
     "text": [
      "['Google', 'Runoob', 1997, 2000, 1, 2, 3, 4, 5, 6, 7]\n",
      "['Google', 'Runoob', 1997, 2000, 'Google', 'Runoob', 1997, 2000, 'Google', 'Runoob', 1997, 2000, 'Google', 'Runoob', 1997, 2000, 'Google', 'Runoob', 1997, 2000]\n",
      "\n",
      "[]\n"
     ]
    }
   ],
   "source": [
    "# + 号用于组合列表，* 号用于重复列表\n",
    "list1 = ['Google', 'Runoob', 1997, 2000];\n",
    "list2 = [1, 2, 3, 4, 5, 6, 7 ];\n",
    "print( list1 + list2 )\n",
    "print( list1*5)\n",
    "\n",
    "print()\n",
    "print(list1*0) # 得到空列表"
   ]
  },
  {
   "cell_type": "markdown",
   "metadata": {},
   "source": [
    "## 列表的函数"
   ]
  },
  {
   "cell_type": "markdown",
   "metadata": {},
   "source": [
    "Python函数(function)与方法(method)区别 \n",
    "\n",
    "在Python中，对这两个东西有明确的规定：  \n",
    ">函数function —— A series of statements which returns some value to a caller. It can also be passed zero or more arguments which may be used in the execution of the body.  \n",
    "方法method —— A function which is defined inside a class body. If called as an attribute of an instance of that class, the method will get the instance object as its first argument (which is usually called self)."
   ]
  },
  {
   "cell_type": "code",
   "execution_count": 51,
   "metadata": {},
   "outputs": [
    {
     "name": "stdout",
     "output_type": "stream",
     "text": [
      "7\n",
      "100\n",
      "-41\n"
     ]
    }
   ],
   "source": [
    "list1 = [-41, 2, 3, 4, 5, 6, 100 ];\n",
    "print( len(list1) )\n",
    "print( max(list1) )\n",
    "print( min(list1) )"
   ]
  },
  {
   "cell_type": "code",
   "execution_count": 52,
   "metadata": {},
   "outputs": [
    {
     "name": "stdout",
     "output_type": "stream",
     "text": [
      "0 tic\n",
      "1 tac\n",
      "2 toe\n",
      "\n",
      "True\n",
      "True\n",
      "True\n",
      "True\n",
      "True\n",
      "True\n",
      "True\n",
      "True\n",
      "True\n",
      "True \n",
      "\n",
      "False \n",
      "\n",
      "{100: 0, 101: 1, 102: 2, 103: 3, 104: 4}\n",
      "0 100\n",
      "1 101\n",
      "2 102\n",
      "3 103\n",
      "4 104\n",
      "100 0\n",
      "101 1\n",
      "102 2\n",
      "103 3\n",
      "104 4\n",
      "0 1\n",
      "1 2\n",
      "2 3\n",
      "3 z\n",
      "4 a\n",
      "5 b\n"
     ]
    }
   ],
   "source": [
    "# enumerate() 函数\n",
    "# 在序列中遍历时，索引位置和对应值可以使用 enumerate() 函数同时得到：\n",
    "# enumerate，列举的意思\n",
    "list1 = ['tic', 'tac', 'toe']\n",
    "for i, v in enumerate( list1 ):  # i在前，v在后\n",
    "    print(i, v)\n",
    "\n",
    "print()\n",
    "# 可迭代对象\n",
    "# for ... in ...(可迭代对象)\n",
    "from    collections    import        Iterable\n",
    "print(isinstance(enumerate( [1,2] ), Iterable))\n",
    "print(isinstance(enumerate('abc'),   Iterable))\n",
    "print(isinstance(enumerate({}),      Iterable))\n",
    "print(isinstance(enumerate(set()),   Iterable))\n",
    "print(isinstance({}.items(),         Iterable))\n",
    "print(isinstance([],                 Iterable))\n",
    "print(isinstance({},                 Iterable))\n",
    "print(isinstance(set(),              Iterable))\n",
    "print(isinstance('abc',              Iterable))\n",
    "print(isinstance(range(10),          Iterable),'\\n')\n",
    "print(isinstance(100,                Iterable),'\\n')\n",
    "\n",
    "x = {100+x:x for x in range(5)}\n",
    "print(x)\n",
    "for v,k in enumerate(x):\n",
    "    print(v,k)\n",
    "    \n",
    "for k,v in x.items():\n",
    "    print(k,v)\n",
    "\n",
    "x = {1,2,3,'a','z','b'}\n",
    "for i,k in enumerate(x):\n",
    "    print(i,k)"
   ]
  },
  {
   "cell_type": "code",
   "execution_count": 4,
   "metadata": {},
   "outputs": [
    {
     "name": "stdout",
     "output_type": "stream",
     "text": [
      "100 a\n",
      "101 b\n",
      "102 c\n",
      "103 d\n"
     ]
    }
   ],
   "source": [
    "# enumerate 函数可以有两个输入参数\n",
    "l = list('abcd')\n",
    "for i,v in enumerate(l,100):\n",
    "    print(i,v)"
   ]
  },
  {
   "cell_type": "markdown",
   "metadata": {},
   "source": [
    "## 列表的方法"
   ]
  },
  {
   "cell_type": "code",
   "execution_count": 53,
   "metadata": {},
   "outputs": [
    {
     "name": "stdout",
     "output_type": "stream",
     "text": [
      "[-41, 2, 3, 'abc']\n"
     ]
    }
   ],
   "source": [
    "# 在列表末尾添加新的对象 \n",
    "list1 = [-41, 2, 3];\n",
    "list1.append('abc');  print( list1 )"
   ]
  },
  {
   "cell_type": "code",
   "execution_count": 54,
   "metadata": {},
   "outputs": [
    {
     "name": "stdout",
     "output_type": "stream",
     "text": [
      "列表插入元素后为 :  ['Google', 'Runoob', 'Baidu', 'Taobao']\n"
     ]
    }
   ],
   "source": [
    "# 在指定的索引位置，将对象插入列表\n",
    "list1 = ['Google', 'Runoob', 'Taobao']\n",
    "list1.insert(2, 'Baidu')\n",
    "print ('列表插入元素后为 : ', list1)"
   ]
  },
  {
   "cell_type": "code",
   "execution_count": 55,
   "metadata": {},
   "outputs": [
    {
     "name": "stdout",
     "output_type": "stream",
     "text": [
      "Taobao\n",
      "列表现在为 :  ['Google', 'Runoob']\n",
      "Runoob\n",
      "列表现在为 :  ['Google', 'Taobao']\n"
     ]
    }
   ],
   "source": [
    "# 移除列表中的一个元素（默认最后一个元素），并且返回该元素的值\n",
    "# list.pop() 返回被抛出的元素的值\n",
    "list1 = ['Google', 'Runoob', 'Taobao']\n",
    "print(list1.pop()) \n",
    "print (\"列表现在为 : \", list1)\n",
    "\n",
    "list1 = ['Google', 'Runoob', 'Taobao']\n",
    "print( list1.pop(1) ) \n",
    "# 等效于 \n",
    "# del list1[1]\n",
    "print (\"列表现在为 : \", list1)"
   ]
  },
  {
   "cell_type": "code",
   "execution_count": 56,
   "metadata": {},
   "outputs": [
    {
     "name": "stdout",
     "output_type": "stream",
     "text": [
      "['a', 'b', 'c', 'a', 'b', 'c']\n",
      "第一个 b 的索引位置为： 1\n",
      "0\n",
      "0\n",
      "[0, 3, 4]\n",
      "第一个 b 的索引位置为： 1\n",
      "第一个 b 的索引位置为： 1\n"
     ]
    }
   ],
   "source": [
    "# 从列表中找出某个值第一个匹配项的索引位置\n",
    "list1 = 'a b c a b c'.split(' ')\n",
    "print(list1)\n",
    "print('第一个 b 的索引位置为：', list1.index('b')) \n",
    "\n",
    "# 字符串对象也有 index 方法\n",
    "print('abcabc'.index('a'))\n",
    "# 序列(string,tuple,list)对象都有 index 方法\n",
    "print(('a','b','c','a').index('a'))\n",
    "\n",
    "# 从列表中找出某个值所有的索引位置？\n",
    "l = [1,2,3,1,1]\n",
    "print(\n",
    "    [index for index, value in enumerate(l) if value == 1]\n",
    ")\n",
    "\n",
    "x = 'abc abc'\n",
    "print('第一个 b 的索引位置为：', x.index('b'))\n",
    "\n",
    "x = ('a','b','c','a','b','c')\n",
    "print('第一个 b 的索引位置为：', x.index('b'))"
   ]
  },
  {
   "cell_type": "code",
   "execution_count": 57,
   "metadata": {},
   "outputs": [
    {
     "name": "stdout",
     "output_type": "stream",
     "text": [
      "None\n",
      "[-500, -41, 2, 4, 5, 6, 100]\n"
     ]
    }
   ],
   "source": [
    "# 对原列表进行排序\n",
    "list1 = [-41, 2, -500, 4, 5, 6, 100 ]\n",
    "re = list1.sort()\n",
    "print(re)  # 注意，返回值为 None\n",
    "print( list1 ) "
   ]
  },
  {
   "cell_type": "code",
   "execution_count": 58,
   "metadata": {},
   "outputs": [
    {
     "name": "stdout",
     "output_type": "stream",
     "text": [
      "4487998984\n",
      "4487998984\n",
      "[4, 7, 5, 'abc']\n",
      "[4, 7, 'abc']\n"
     ]
    }
   ],
   "source": [
    "# 移除列表中某个值的第一个匹配项\n",
    "# 只能删除第一个匹配项\n",
    "list1 = [4,'abc',7,5,'abc']\n",
    "print(id(list1))\n",
    "\n",
    "list1.remove('abc')\n",
    "print(id(list1))\n",
    "print(list1)\n",
    "\n",
    "# 注意与按索引删除的区别\n",
    "del list1[2]\n",
    "print(list1)"
   ]
  },
  {
   "cell_type": "code",
   "execution_count": 59,
   "metadata": {},
   "outputs": [
    {
     "name": "stdout",
     "output_type": "stream",
     "text": [
      "['hi', 'hello', 'world']\n"
     ]
    }
   ],
   "source": [
    "# 将字符串拆成列表\n",
    "str1 = \"hi hello world\"\n",
    "print(str1.split(\" \"))"
   ]
  },
  {
   "cell_type": "code",
   "execution_count": 60,
   "metadata": {},
   "outputs": [
    {
     "name": "stdout",
     "output_type": "stream",
     "text": [
      "['Google', 'Runoob', 'Taobao', 0, 1]\n",
      "['Google', 'Runoob', 'Taobao', 0, 1, 'a', 'b', 'c']\n",
      "['Google', 'Runoob', 'Taobao', 0, 1, 'a', 'b', 'c', 'abc']\n"
     ]
    }
   ],
   "source": [
    "# 扩展列表\n",
    "if 'list' in vars() :\n",
    "    del list\n",
    "    \n",
    "list1 = ['Google', 'Runoob', 'Taobao']\n",
    "list2 = list(range(2)) # 创建 0-4 的列表\n",
    "list1.extend(list2)  # 扩展列表\n",
    "print (list1)\n",
    "\n",
    "list1.extend('abc')\n",
    "print (list1)\n",
    "# 将'abc'自动转成了['a','b','c']\n",
    "\n",
    "# 注意其与 append 方法的区别\n",
    "list1.append('abc'); print(list1)"
   ]
  },
  {
   "cell_type": "code",
   "execution_count": 61,
   "metadata": {},
   "outputs": [
    {
     "name": "stdout",
     "output_type": "stream",
     "text": [
      "123 元素个数 :  2\n",
      "Runoob 元素个数 :  1\n",
      "\n",
      "5\n",
      "2\n"
     ]
    }
   ],
   "source": [
    "# 统计某个元素在列表中出现的次数\n",
    "aList = [123, 'Google', 'Runoob', 'Taobao', 123];\n",
    "\n",
    "print (\"123 元素个数 : \", aList.count(123))\n",
    "print (\"Runoob 元素个数 : \", aList.count('Runoob'))\n",
    "\n",
    "print()\n",
    "\n",
    "# 序列(string,tuple,list)对象都有 count 方法\n",
    "x = 'abc abc a a a'\n",
    "print(x.count('a'))\n",
    "print(('a','a').count('a'))"
   ]
  },
  {
   "cell_type": "code",
   "execution_count": null,
   "metadata": {},
   "outputs": [],
   "source": []
  }
 ],
 "metadata": {
  "kernelspec": {
   "display_name": "Python 3",
   "language": "python",
   "name": "python3"
  },
  "language_info": {
   "codemirror_mode": {
    "name": "ipython",
    "version": 3
   },
   "file_extension": ".py",
   "mimetype": "text/x-python",
   "name": "python",
   "nbconvert_exporter": "python",
   "pygments_lexer": "ipython3",
   "version": "3.6.4"
  },
  "toc": {
   "base_numbering": 1,
   "nav_menu": {},
   "number_sections": true,
   "sideBar": true,
   "skip_h1_title": false,
   "title_cell": "Table of Contents",
   "title_sidebar": "Contents",
   "toc_cell": false,
   "toc_position": {
    "height": "calc(100% - 180px)",
    "left": "10px",
    "top": "150px",
    "width": "309px"
   },
   "toc_section_display": true,
   "toc_window_display": true
  }
 },
 "nbformat": 4,
 "nbformat_minor": 2
}
